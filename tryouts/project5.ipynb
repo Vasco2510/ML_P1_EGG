{
  "cells": [
    {
      "cell_type": "code",
      "execution_count": 17,
      "id": "60324af2",
      "metadata": {
        "id": "60324af2"
      },
      "outputs": [],
      "source": [
        "import pandas as pd\n",
        "import h5py\n",
        "import numpy as np\n",
        "from sklearn.model_selection import StratifiedKFold\n",
        "# Importaciones necesarias\n",
        "from sklearn.model_selection import StratifiedKFold, cross_val_score\n",
        "from sklearn.pipeline import Pipeline\n",
        "from sklearn.preprocessing import StandardScaler\n",
        "from sklearn.svm import SVC\n",
        "from sklearn.neighbors import KNeighborsClassifier\n",
        "import numpy as np"
      ]
    },
    {
      "cell_type": "code",
      "source": [
        "from google.colab import drive\n",
        "drive.mount('/content/drive')"
      ],
      "metadata": {
        "id": "ohoW-FaqUPNr",
        "outputId": "aa48cccf-53a9-4198-b03f-91bfc10028a9",
        "colab": {
          "base_uri": "https://localhost:8080/"
        }
      },
      "id": "ohoW-FaqUPNr",
      "execution_count": 4,
      "outputs": [
        {
          "output_type": "stream",
          "name": "stdout",
          "text": [
            "Mounted at /content/drive\n"
          ]
        }
      ]
    },
    {
      "cell_type": "code",
      "execution_count": 19,
      "id": "5292b9f3",
      "metadata": {
        "id": "5292b9f3",
        "outputId": "5c6302d9-2334-4798-94d0-35caec42da8d",
        "colab": {
          "base_uri": "https://localhost:8080/"
        }
      },
      "outputs": [
        {
          "output_type": "stream",
          "name": "stdout",
          "text": [
            "Keys disponibles  ['x', 'y']\n"
          ]
        }
      ],
      "source": [
        "## ruta archivo\n",
        "ruta = '/content/drive/MyDrive/ml_datasets/EGG/train.h5'\n",
        "# with h5py.File('data/train.h5', 'r') as f:\n",
        "with h5py.File(ruta, 'r') as f:\n",
        "    print(\"Keys disponibles \",list(f.keys()))  # Verifica los nombres de los datasets\n",
        "    data = f['x'][:]  # )\n",
        "    labels = f['y'][:]  #\n",
        "# --- 2. Aplanamiento (Uniendo Canal y Tiempo) ---\n",
        "# X_flat tendrá forma (204, 18530)\n",
        "# Esto trata cada punto de tiempo como una característica potencial\n",
        "X_flat = data.reshape(data.shape[0], data.shape[2])\n",
        "y = labels.astype(int)\n"
      ]
    },
    {
      "cell_type": "code",
      "execution_count": 6,
      "id": "9ab63498",
      "metadata": {
        "id": "9ab63498",
        "outputId": "10250942-7d3a-4848-896c-b9d5e7001d67",
        "colab": {
          "base_uri": "https://localhost:8080/"
        }
      },
      "outputs": [
        {
          "output_type": "stream",
          "name": "stdout",
          "text": [
            "Forma de los datos (x): (204, 1, 18530)\n",
            "Forma de las etiquetas (y): (204,)\n"
          ]
        }
      ],
      "source": [
        "\n",
        "# Verifica las formas:\n",
        "print(\"Forma de los datos (x):\", data.shape)  # Debería ser [n_muestras, 64_electrodos, 256_puntos]\n",
        "print(\"Forma de las etiquetas (y):\", labels.shape)  # Debería ser [n_muestras,]"
      ]
    },
    {
      "cell_type": "code",
      "execution_count": 7,
      "id": "08033da9",
      "metadata": {
        "id": "08033da9",
        "outputId": "6e9dde4d-99f1-4c92-fdf1-7d1beb809082",
        "colab": {
          "base_uri": "https://localhost:8080/"
        }
      },
      "outputs": [
        {
          "output_type": "execute_result",
          "data": {
            "text/plain": [
              "(204, 1, 18530)"
            ]
          },
          "metadata": {},
          "execution_count": 7
        }
      ],
      "source": [
        "data.shape"
      ]
    },
    {
      "cell_type": "markdown",
      "source": [
        "Esto que observamos significa que tenemos 204, registros (muestras) y tenemos un número de columnas predictoras de (18530-1) ya que la ultima columna debería ser un bool de 0 o 1."
      ],
      "metadata": {
        "id": "YqvudGcuccS-"
      },
      "id": "YqvudGcuccS-"
    },
    {
      "cell_type": "code",
      "source": [
        "data"
      ],
      "metadata": {
        "id": "HUcQ0h1SXKgS",
        "outputId": "a91bd155-bef1-4975-9bff-7dcdfca041c3",
        "colab": {
          "base_uri": "https://localhost:8080/"
        }
      },
      "id": "HUcQ0h1SXKgS",
      "execution_count": 8,
      "outputs": [
        {
          "output_type": "execute_result",
          "data": {
            "text/plain": [
              "array([[[-5.859375e-03, -1.141357e-02, -1.077271e-02, ...,\n",
              "         -1.989746e-02, -2.163696e-02, -1.885986e-02]],\n",
              "\n",
              "       [[ 2.380371e-03,  5.126953e-03,  5.737305e-03, ...,\n",
              "         -3.997803e-03, -5.981445e-03, -7.659912e-03]],\n",
              "\n",
              "       [[ 5.807495e-02,  1.220398e-01,  1.083069e-01, ...,\n",
              "         -1.315308e-02, -1.412964e-02, -1.824951e-02]],\n",
              "\n",
              "       ...,\n",
              "\n",
              "       [[ 1.516724e-02,  3.179932e-02,  2.697754e-02, ...,\n",
              "         -2.716064e-03, -8.239746e-04,  3.051758e-04]],\n",
              "\n",
              "       [[ 2.532959e-03,  5.218506e-03,  3.570557e-03, ...,\n",
              "         -3.692627e-03, -3.356934e-03, -3.479004e-03]],\n",
              "\n",
              "       [[-2.990723e-03, -4.119873e-03,  3.662109e-04, ...,\n",
              "         -6.103516e-05, -9.552002e-03, -1.931763e-02]]])"
            ]
          },
          "metadata": {},
          "execution_count": 8
        }
      ]
    },
    {
      "cell_type": "code",
      "execution_count": 10,
      "id": "9edbbf2e",
      "metadata": {
        "id": "9edbbf2e",
        "colab": {
          "base_uri": "https://localhost:8080/"
        },
        "outputId": "92861930-87b2-425e-8b4e-6d79a3d6966a"
      },
      "outputs": [
        {
          "output_type": "stream",
          "name": "stdout",
          "text": [
            "Forma de la matriz X aplanada (Muestras, Puntos de tiempo): (204, 18530)\n"
          ]
        }
      ],
      "source": [
        "# Aplanar la señal (quita la dimensión \"1\")\n",
        "X_flat = data.reshape(data.shape[0], data.shape[2])\n",
        "\n",
        "# Crear DataFrame\n",
        "df = pd.DataFrame(X_flat)\n",
        "#df[\"label\"] = labels  # añadimos la etiqueta al final\n",
        "\n",
        "print(f\"Forma de la matriz X aplanada (Muestras, Puntos de tiempo): {X_flat.shape}\")\n"
      ]
    },
    {
      "cell_type": "code",
      "execution_count": null,
      "id": "eee0ede1",
      "metadata": {
        "id": "eee0ede1",
        "outputId": "46870860-5a43-4e68-ce3e-2f62fbb6c0e1"
      },
      "outputs": [
        {
          "data": {
            "text/html": [
              "<div>\n",
              "<style scoped>\n",
              "    .dataframe tbody tr th:only-of-type {\n",
              "        vertical-align: middle;\n",
              "    }\n",
              "\n",
              "    .dataframe tbody tr th {\n",
              "        vertical-align: top;\n",
              "    }\n",
              "\n",
              "    .dataframe thead th {\n",
              "        text-align: right;\n",
              "    }\n",
              "</style>\n",
              "<table border=\"1\" class=\"dataframe\">\n",
              "  <thead>\n",
              "    <tr style=\"text-align: right;\">\n",
              "      <th></th>\n",
              "      <th>0</th>\n",
              "      <th>1</th>\n",
              "      <th>2</th>\n",
              "      <th>3</th>\n",
              "      <th>4</th>\n",
              "      <th>5</th>\n",
              "      <th>6</th>\n",
              "      <th>7</th>\n",
              "      <th>8</th>\n",
              "      <th>9</th>\n",
              "      <th>...</th>\n",
              "      <th>18520</th>\n",
              "      <th>18521</th>\n",
              "      <th>18522</th>\n",
              "      <th>18523</th>\n",
              "      <th>18524</th>\n",
              "      <th>18525</th>\n",
              "      <th>18526</th>\n",
              "      <th>18527</th>\n",
              "      <th>18528</th>\n",
              "      <th>18529</th>\n",
              "    </tr>\n",
              "  </thead>\n",
              "  <tbody>\n",
              "    <tr>\n",
              "      <th>0</th>\n",
              "      <td>-0.005859</td>\n",
              "      <td>-0.011414</td>\n",
              "      <td>-0.010773</td>\n",
              "      <td>-0.010559</td>\n",
              "      <td>-0.008850</td>\n",
              "      <td>-0.008636</td>\n",
              "      <td>-0.009094</td>\n",
              "      <td>-0.008850</td>\n",
              "      <td>-0.009369</td>\n",
              "      <td>-0.009888</td>\n",
              "      <td>...</td>\n",
              "      <td>0.012573</td>\n",
              "      <td>0.007721</td>\n",
              "      <td>0.002075</td>\n",
              "      <td>-0.003174</td>\n",
              "      <td>-0.007843</td>\n",
              "      <td>-0.012573</td>\n",
              "      <td>-0.017670</td>\n",
              "      <td>-0.019897</td>\n",
              "      <td>-0.021637</td>\n",
              "      <td>-0.018860</td>\n",
              "    </tr>\n",
              "    <tr>\n",
              "      <th>1</th>\n",
              "      <td>0.002380</td>\n",
              "      <td>0.005127</td>\n",
              "      <td>0.005737</td>\n",
              "      <td>0.007263</td>\n",
              "      <td>0.008575</td>\n",
              "      <td>0.010742</td>\n",
              "      <td>0.012970</td>\n",
              "      <td>0.017212</td>\n",
              "      <td>0.022003</td>\n",
              "      <td>0.027954</td>\n",
              "      <td>...</td>\n",
              "      <td>0.003815</td>\n",
              "      <td>0.005707</td>\n",
              "      <td>0.006683</td>\n",
              "      <td>0.006012</td>\n",
              "      <td>0.003601</td>\n",
              "      <td>0.000427</td>\n",
              "      <td>-0.001984</td>\n",
              "      <td>-0.003998</td>\n",
              "      <td>-0.005981</td>\n",
              "      <td>-0.007660</td>\n",
              "    </tr>\n",
              "    <tr>\n",
              "      <th>2</th>\n",
              "      <td>0.058075</td>\n",
              "      <td>0.122040</td>\n",
              "      <td>0.108307</td>\n",
              "      <td>0.113769</td>\n",
              "      <td>0.105316</td>\n",
              "      <td>0.103912</td>\n",
              "      <td>0.094849</td>\n",
              "      <td>0.091187</td>\n",
              "      <td>0.080170</td>\n",
              "      <td>0.074432</td>\n",
              "      <td>...</td>\n",
              "      <td>-0.009613</td>\n",
              "      <td>-0.008301</td>\n",
              "      <td>-0.005402</td>\n",
              "      <td>-0.007690</td>\n",
              "      <td>-0.006592</td>\n",
              "      <td>-0.007904</td>\n",
              "      <td>-0.009674</td>\n",
              "      <td>-0.013153</td>\n",
              "      <td>-0.014130</td>\n",
              "      <td>-0.018250</td>\n",
              "    </tr>\n",
              "    <tr>\n",
              "      <th>3</th>\n",
              "      <td>-0.007385</td>\n",
              "      <td>-0.011932</td>\n",
              "      <td>-0.004700</td>\n",
              "      <td>-0.003143</td>\n",
              "      <td>0.005493</td>\n",
              "      <td>0.006744</td>\n",
              "      <td>0.012085</td>\n",
              "      <td>0.012909</td>\n",
              "      <td>0.018097</td>\n",
              "      <td>0.021606</td>\n",
              "      <td>...</td>\n",
              "      <td>-0.003082</td>\n",
              "      <td>-0.007050</td>\n",
              "      <td>-0.010956</td>\n",
              "      <td>-0.013916</td>\n",
              "      <td>-0.017944</td>\n",
              "      <td>-0.019867</td>\n",
              "      <td>-0.025604</td>\n",
              "      <td>-0.027161</td>\n",
              "      <td>-0.030273</td>\n",
              "      <td>-0.039368</td>\n",
              "    </tr>\n",
              "    <tr>\n",
              "      <th>4</th>\n",
              "      <td>-0.000458</td>\n",
              "      <td>-0.001099</td>\n",
              "      <td>0.003723</td>\n",
              "      <td>0.002930</td>\n",
              "      <td>0.004059</td>\n",
              "      <td>0.003906</td>\n",
              "      <td>0.003265</td>\n",
              "      <td>0.002777</td>\n",
              "      <td>0.000488</td>\n",
              "      <td>-0.001221</td>\n",
              "      <td>...</td>\n",
              "      <td>0.040039</td>\n",
              "      <td>0.040680</td>\n",
              "      <td>0.041901</td>\n",
              "      <td>0.040710</td>\n",
              "      <td>0.038727</td>\n",
              "      <td>0.025818</td>\n",
              "      <td>0.019470</td>\n",
              "      <td>0.010010</td>\n",
              "      <td>0.004242</td>\n",
              "      <td>0.003235</td>\n",
              "    </tr>\n",
              "  </tbody>\n",
              "</table>\n",
              "<p>5 rows × 18530 columns</p>\n",
              "</div>"
            ],
            "text/plain": [
              "      0         1         2         3         4         5         6      \\\n",
              "0 -0.005859 -0.011414 -0.010773 -0.010559 -0.008850 -0.008636 -0.009094   \n",
              "1  0.002380  0.005127  0.005737  0.007263  0.008575  0.010742  0.012970   \n",
              "2  0.058075  0.122040  0.108307  0.113769  0.105316  0.103912  0.094849   \n",
              "3 -0.007385 -0.011932 -0.004700 -0.003143  0.005493  0.006744  0.012085   \n",
              "4 -0.000458 -0.001099  0.003723  0.002930  0.004059  0.003906  0.003265   \n",
              "\n",
              "      7         8         9      ...     18520     18521     18522     18523  \\\n",
              "0 -0.008850 -0.009369 -0.009888  ...  0.012573  0.007721  0.002075 -0.003174   \n",
              "1  0.017212  0.022003  0.027954  ...  0.003815  0.005707  0.006683  0.006012   \n",
              "2  0.091187  0.080170  0.074432  ... -0.009613 -0.008301 -0.005402 -0.007690   \n",
              "3  0.012909  0.018097  0.021606  ... -0.003082 -0.007050 -0.010956 -0.013916   \n",
              "4  0.002777  0.000488 -0.001221  ...  0.040039  0.040680  0.041901  0.040710   \n",
              "\n",
              "      18524     18525     18526     18527     18528     18529  \n",
              "0 -0.007843 -0.012573 -0.017670 -0.019897 -0.021637 -0.018860  \n",
              "1  0.003601  0.000427 -0.001984 -0.003998 -0.005981 -0.007660  \n",
              "2 -0.006592 -0.007904 -0.009674 -0.013153 -0.014130 -0.018250  \n",
              "3 -0.017944 -0.019867 -0.025604 -0.027161 -0.030273 -0.039368  \n",
              "4  0.038727  0.025818  0.019470  0.010010  0.004242  0.003235  \n",
              "\n",
              "[5 rows x 18530 columns]"
            ]
          },
          "execution_count": 48,
          "metadata": {},
          "output_type": "execute_result"
        }
      ],
      "source": [
        "df.head()"
      ]
    },
    {
      "cell_type": "code",
      "execution_count": null,
      "id": "fb84842c",
      "metadata": {
        "id": "fb84842c",
        "outputId": "ab42dcc4-f272-40bf-ec30-cbb1a60426cb"
      },
      "outputs": [
        {
          "name": "stdout",
          "output_type": "stream",
          "text": [
            "0\n"
          ]
        }
      ],
      "source": [
        "# Cantidad de nulos en el dataframe\n",
        "print(df.isnull().sum().sum())"
      ]
    },
    {
      "cell_type": "code",
      "source": [
        "# --- 3. Feature Extraction: Características Estadísticas por Muestra (Fila) ---\n",
        "\n",
        "# Calculamos las estadísticas a lo largo del eje de tiempo (axis=1)\n",
        "row_mean = np.mean(X_flat, axis=1)        # Media\n",
        "row_std = np.std(X_flat, axis=1)          # Desviación estándar (volatilidad)\n",
        "row_range = np.ptp(X_flat, axis=1)        # Rango (peak-to-peak: Max - Min)\n",
        "row_cv = row_std / (row_mean + 1e-8)      # Coeficiente de Variación\n",
        "\n",
        "# Combinamos estas 4 nuevas características en la matriz final X\n",
        "X_features = np.column_stack([\n",
        "    row_mean,\n",
        "    row_std,\n",
        "    row_range,\n",
        "    row_cv\n",
        "])\n",
        "\n",
        "# Convertir a DataFrame para tener nombres de columnas claros\n",
        "X = pd.DataFrame(X_features, columns=['mean', 'std', 'range', 'cv'])\n",
        "\n",
        "print(\"\\n--- Extracción de Características Completada ---\")\n",
        "print(f\"Forma de la matriz X final para ML: {X.shape}\") # (204, 4)"
      ],
      "metadata": {
        "colab": {
          "base_uri": "https://localhost:8080/"
        },
        "id": "keAx1T_pGV6I",
        "outputId": "c996606d-cf32-4c7f-8837-59566e019d38"
      },
      "id": "keAx1T_pGV6I",
      "execution_count": 20,
      "outputs": [
        {
          "output_type": "stream",
          "name": "stdout",
          "text": [
            "\n",
            "--- Extracción de Características Completada ---\n",
            "Forma de la matriz X final para ML: (204, 4)\n"
          ]
        }
      ]
    },
    {
      "cell_type": "code",
      "source": [
        "# --- 4. Definición de Estrategia de Evaluación ---\n",
        "k = 5\n",
        "skf = StratifiedKFold(n_splits=k, shuffle=True, random_state=42)\n",
        "\n",
        "# --- 4.1. Modelo 1: Support Vector Machine (SVM) ---\n",
        "print(\"\\n--- Modelo 1: Support Vector Machine (SVM) ---\")\n",
        "# SVM necesita escalado (StandardScaler) para funcionar correctamente\n",
        "pipe_svm = Pipeline([\n",
        "    ('scaler', StandardScaler()),\n",
        "    ('clf', SVC(kernel='linear', C=1.0, random_state=42))\n",
        "])\n",
        "\n",
        "accs_svm = cross_val_score(pipe_svm, X, y, cv=skf, scoring='accuracy')\n",
        "\n",
        "print(f\"Accuracies (SVM, {k} folds): {accs_svm}\")\n",
        "print(f\"-> Precisión Media (SVM): {np.mean(accs_svm):.4f}\")\n",
        "\n",
        "# --- 4.2. Modelo 2: k-Nearest Neighbors (k-NN) ---\n",
        "print(\"\\n--- Modelo 2: k-Nearest Neighbors (k-NN) ---\")\n",
        "# k-NN es muy sensible a la escala, por lo que el scaler es crucial\n",
        "pipe_knn = Pipeline([\n",
        "    ('scaler', StandardScaler()),\n",
        "    ('clf', KNeighborsClassifier(n_neighbors=5))\n",
        "])\n",
        "\n",
        "accs_knn = cross_val_score(pipe_knn, X, y, cv=skf, scoring='accuracy')\n",
        "\n",
        "print(f\"Accuracies (k-NN, {k} folds): {accs_knn}\")\n",
        "print(f\"-> Precisión Media (k-NN): {np.mean(accs_knn):.4f}\")"
      ],
      "metadata": {
        "colab": {
          "base_uri": "https://localhost:8080/"
        },
        "id": "LXIRJmBGGoG6",
        "outputId": "2fa7932c-4969-4b66-d624-f9b98363e343"
      },
      "id": "LXIRJmBGGoG6",
      "execution_count": 21,
      "outputs": [
        {
          "output_type": "stream",
          "name": "stdout",
          "text": [
            "\n",
            "--- Modelo 1: Support Vector Machine (SVM) ---\n",
            "Accuracies (SVM, 5 folds): [0.73170732 0.73170732 0.73170732 0.73170732 0.725     ]\n",
            "-> Precisión Media (SVM): 0.7304\n",
            "\n",
            "--- Modelo 2: k-Nearest Neighbors (k-NN) ---\n",
            "Accuracies (k-NN, 5 folds): [0.63414634 0.6097561  0.73170732 0.65853659 0.675     ]\n",
            "-> Precisión Media (k-NN): 0.6618\n"
          ]
        }
      ]
    },
    {
      "cell_type": "code",
      "source": [
        "# --- 4. Extracción de Características de Frecuencia con FFT ---\n",
        "# Utilizaremos la matriz aplanada X_flat de (204, 18530)\n",
        "\n",
        "def extract_fft_features(X_data, num_features=3):\n",
        "    \"\"\"Calcula las potencias de las 'num_features' frecuencias más altas.\"\"\"\n",
        "    X_fft_features = []\n",
        "\n",
        "    for row in X_data:\n",
        "        # 1. Aplicar la Transformada Rápida de Fourier\n",
        "        fft_values = np.fft.fft(row)\n",
        "        # 2. Calcular la potencia (magnitud al cuadrado)\n",
        "        power_spectrum = np.abs(fft_values)**2\n",
        "        # 3. Solo nos interesa la mitad positiva del espectro (por simetría)\n",
        "        half_len = len(power_spectrum) // 2\n",
        "        positive_power = power_spectrum[:half_len]\n",
        "\n",
        "        # 4. Encontrar los índices de las 'num_features' potencias más altas\n",
        "        top_indices = np.argsort(positive_power)[-num_features:]\n",
        "\n",
        "        # 5. Guardar las potencias correspondientes (las magnitudes son nuestras features)\n",
        "        top_powers = positive_power[top_indices]\n",
        "\n",
        "        # Aseguramos que siempre haya 'num_features' elementos\n",
        "        if len(top_powers) < num_features:\n",
        "            top_powers = np.pad(top_powers, (num_features - len(top_powers), 0), 'constant')\n",
        "\n",
        "        X_fft_features.append(top_powers)\n",
        "\n",
        "    return np.array(X_fft_features)\n",
        "\n",
        "# Generar 3 features de frecuencia\n",
        "X_fft = extract_fft_features(X_flat, num_features=3)\n",
        "fft_df = pd.DataFrame(X_fft, columns=['fft_p1', 'fft_p2', 'fft_p3'])\n",
        "\n",
        "# --- 5. Unir Todas las Características ---\n",
        "# X_stat es el DataFrame con mean, std, range, cv\n",
        "# X_new contendrá las 4 estadísticas + las 3 potencias de FFT (7 features)\n",
        "X_new = pd.concat([X, fft_df], axis=1)\n",
        "\n",
        "print(\"\\n--- Feature Engineering Avanzado (Estadísticas + FFT) Completado ---\")\n",
        "print(f\"Forma de la matriz X final (para los modelos): {X_new.shape}\")\n",
        "\n",
        "# Ahora, puedes usar X_new en el Paso 3 (entrenamiento de SVM y k-NN).\n",
        "# Simplemente reemplaza la variable 'X' con 'X_new' en los pipelines."
      ],
      "metadata": {
        "id": "R3KBpYXqKZrE",
        "outputId": "b9e97a28-7820-4e74-c8d6-7742a3c94214",
        "colab": {
          "base_uri": "https://localhost:8080/"
        }
      },
      "id": "R3KBpYXqKZrE",
      "execution_count": 22,
      "outputs": [
        {
          "output_type": "stream",
          "name": "stdout",
          "text": [
            "\n",
            "--- Feature Engineering Avanzado (Estadísticas + FFT) Completado ---\n",
            "Forma de la matriz X final (para los modelos): (204, 7)\n"
          ]
        }
      ]
    },
    {
      "cell_type": "markdown",
      "source": [],
      "metadata": {
        "id": "XZWRNdj3GUR3"
      },
      "id": "XZWRNdj3GUR3"
    },
    {
      "cell_type": "markdown",
      "source": [],
      "metadata": {
        "id": "EmkmvFe1GUIQ"
      },
      "id": "EmkmvFe1GUIQ"
    },
    {
      "cell_type": "markdown",
      "source": [],
      "metadata": {
        "id": "SsB7bnNoGUFY"
      },
      "id": "SsB7bnNoGUFY"
    },
    {
      "cell_type": "markdown",
      "source": [],
      "metadata": {
        "id": "x_vUEoQeGUCw"
      },
      "id": "x_vUEoQeGUCw"
    },
    {
      "cell_type": "markdown",
      "source": [],
      "metadata": {
        "id": "w0rxeTpoGT_4"
      },
      "id": "w0rxeTpoGT_4"
    },
    {
      "cell_type": "markdown",
      "source": [],
      "metadata": {
        "id": "gvQ72oAgGT8y"
      },
      "id": "gvQ72oAgGT8y"
    },
    {
      "cell_type": "markdown",
      "source": [],
      "metadata": {
        "id": "p-LZ4NFAGT3o"
      },
      "id": "p-LZ4NFAGT3o"
    },
    {
      "cell_type": "markdown",
      "source": [],
      "metadata": {
        "id": "c6pAeQpkGTwC"
      },
      "id": "c6pAeQpkGTwC"
    },
    {
      "cell_type": "code",
      "execution_count": null,
      "id": "f93585a4",
      "metadata": {
        "id": "f93585a4"
      },
      "outputs": [],
      "source": [
        "import numpy as np\n",
        "from tsfresh import extract_features\n",
        "\n",
        "# melt convierte tu DataFrame de ancho a largo\n",
        "df_long = pd.melt(df.reset_index(), id_vars=['index'], var_name=\"time\", value_name=\"value\")\n",
        "\n",
        "# renombramos columnas para TsFresh\n",
        "df_long = df_long.rename(columns={'index':'id'})\n",
        "\n",
        "# id = cuál muestra pertenece cada valor\n",
        "df_long[\"id\"] = df_long[\"id\"].astype(int)\n",
        "df_long[\"time\"] = df_long[\"time\"].astype(int)"
      ]
    },
    {
      "cell_type": "code",
      "execution_count": null,
      "id": "de0e3f66",
      "metadata": {
        "id": "de0e3f66",
        "outputId": "4929a5c2-79f4-4ae1-d239-24f9cabb8cde"
      },
      "outputs": [
        {
          "ename": "MemoryError",
          "evalue": "Unable to allocate 5.12 GiB for an array with shape (18529, 18529, 2) and data type float64",
          "output_type": "error",
          "traceback": [
            "\u001b[31m---------------------------------------------------------------------------\u001b[39m",
            "\u001b[31mRemoteTraceback\u001b[39m                           Traceback (most recent call last)",
            "\u001b[31mRemoteTraceback\u001b[39m: \n\"\"\"\nTraceback (most recent call last):\n  File \"C:\\Python313\\Lib\\multiprocessing\\pool.py\", line 125, in worker\n    result = (True, func(*args, **kwds))\n                    ~~~~^^^^^^^^^^^^^^^\n  File \"z:\\ML\\Proyecto1\\tryouts\\venv\\Lib\\site-packages\\tsfresh\\utilities\\distribution.py\", line 43, in _function_with_partly_reduce\n    results = list(itertools.chain.from_iterable(results))\n  File \"z:\\ML\\Proyecto1\\tryouts\\venv\\Lib\\site-packages\\tsfresh\\utilities\\distribution.py\", line 42, in <genexpr>\n    results = (map_function(chunk, **kwargs) for chunk in chunk_list)\n               ~~~~~~~~~~~~^^^^^^^^^^^^^^^^^\n  File \"z:\\ML\\Proyecto1\\tryouts\\venv\\Lib\\site-packages\\tsfresh\\feature_extraction\\extraction.py\", line 386, in _do_extraction_on_chunk\n    return list(_f())\n  File \"z:\\ML\\Proyecto1\\tryouts\\venv\\Lib\\site-packages\\tsfresh\\feature_extraction\\extraction.py\", line 374, in _f\n    for key, item in result:\n                     ^^^^^^\n  File \"z:\\ML\\Proyecto1\\tryouts\\venv\\Lib\\site-packages\\tsfresh\\feature_extraction\\extraction.py\", line 368, in <genexpr>\n    (convert_to_output_format(param), func(x, **param))\n                                      ~~~~^^^^^^^^^^^^\n  File \"z:\\ML\\Proyecto1\\tryouts\\venv\\Lib\\site-packages\\tsfresh\\feature_extraction\\feature_calculators.py\", line 1805, in approximate_entropy\n    return np.abs(_phi(m) - _phi(m + 1))\n                  ~~~~^^^\n  File \"z:\\ML\\Proyecto1\\tryouts\\venv\\Lib\\site-packages\\tsfresh\\feature_extraction\\feature_calculators.py\", line 1800, in _phi\n    np.max(np.abs(x_re[:, np.newaxis] - x_re[np.newaxis, :]), axis=2) <= r,\n                  ~~~~~~~~~~~~~~~~~~~~^~~~~~~~~~~~~~~~~~~~~\nnumpy._core._exceptions._ArrayMemoryError: Unable to allocate 5.12 GiB for an array with shape (18529, 18529, 2) and data type float64\n\"\"\"",
            "\nThe above exception was the direct cause of the following exception:\n",
            "\u001b[31mMemoryError\u001b[39m                               Traceback (most recent call last)",
            "\u001b[36mCell\u001b[39m\u001b[36m \u001b[39m\u001b[32mIn[52]\u001b[39m\u001b[32m, line 1\u001b[39m\n\u001b[32m----> \u001b[39m\u001b[32m1\u001b[39m features = \u001b[43mextract_features\u001b[49m\u001b[43m(\u001b[49m\u001b[43mdf_long\u001b[49m\u001b[43m,\u001b[49m\u001b[43m \u001b[49m\u001b[43mcolumn_id\u001b[49m\u001b[43m=\u001b[49m\u001b[33;43m\"\u001b[39;49m\u001b[33;43mid\u001b[39;49m\u001b[33;43m\"\u001b[39;49m\u001b[43m,\u001b[49m\u001b[43m \u001b[49m\u001b[43mcolumn_sort\u001b[49m\u001b[43m=\u001b[49m\u001b[33;43m\"\u001b[39;49m\u001b[33;43mtime\u001b[39;49m\u001b[33;43m\"\u001b[39;49m\u001b[43m,\u001b[49m\u001b[43m \u001b[49m\u001b[43mdisable_progressbar\u001b[49m\u001b[43m=\u001b[49m\u001b[38;5;28;43;01mTrue\u001b[39;49;00m\u001b[43m)\u001b[49m\n",
            "\u001b[36mFile \u001b[39m\u001b[32mz:\\ML\\Proyecto1\\tryouts\\venv\\Lib\\site-packages\\tsfresh\\feature_extraction\\extraction.py:164\u001b[39m, in \u001b[36mextract_features\u001b[39m\u001b[34m(timeseries_container, default_fc_parameters, kind_to_fc_parameters, column_id, column_sort, column_kind, column_value, chunksize, n_jobs, show_warnings, disable_progressbar, impute_function, profile, profiling_filename, profiling_sorting, distributor, pivot)\u001b[39m\n\u001b[32m    161\u001b[39m \u001b[38;5;28;01melse\u001b[39;00m:\n\u001b[32m    162\u001b[39m     warnings.simplefilter(\u001b[33m\"\u001b[39m\u001b[33mdefault\u001b[39m\u001b[33m\"\u001b[39m)\n\u001b[32m--> \u001b[39m\u001b[32m164\u001b[39m result = \u001b[43m_do_extraction\u001b[49m\u001b[43m(\u001b[49m\n\u001b[32m    165\u001b[39m \u001b[43m    \u001b[49m\u001b[43mdf\u001b[49m\u001b[43m=\u001b[49m\u001b[43mtimeseries_container\u001b[49m\u001b[43m,\u001b[49m\n\u001b[32m    166\u001b[39m \u001b[43m    \u001b[49m\u001b[43mcolumn_id\u001b[49m\u001b[43m=\u001b[49m\u001b[43mcolumn_id\u001b[49m\u001b[43m,\u001b[49m\n\u001b[32m    167\u001b[39m \u001b[43m    \u001b[49m\u001b[43mcolumn_value\u001b[49m\u001b[43m=\u001b[49m\u001b[43mcolumn_value\u001b[49m\u001b[43m,\u001b[49m\n\u001b[32m    168\u001b[39m \u001b[43m    \u001b[49m\u001b[43mcolumn_kind\u001b[49m\u001b[43m=\u001b[49m\u001b[43mcolumn_kind\u001b[49m\u001b[43m,\u001b[49m\n\u001b[32m    169\u001b[39m \u001b[43m    \u001b[49m\u001b[43mcolumn_sort\u001b[49m\u001b[43m=\u001b[49m\u001b[43mcolumn_sort\u001b[49m\u001b[43m,\u001b[49m\n\u001b[32m    170\u001b[39m \u001b[43m    \u001b[49m\u001b[43mn_jobs\u001b[49m\u001b[43m=\u001b[49m\u001b[43mn_jobs\u001b[49m\u001b[43m,\u001b[49m\n\u001b[32m    171\u001b[39m \u001b[43m    \u001b[49m\u001b[43mchunk_size\u001b[49m\u001b[43m=\u001b[49m\u001b[43mchunksize\u001b[49m\u001b[43m,\u001b[49m\n\u001b[32m    172\u001b[39m \u001b[43m    \u001b[49m\u001b[43mdisable_progressbar\u001b[49m\u001b[43m=\u001b[49m\u001b[43mdisable_progressbar\u001b[49m\u001b[43m,\u001b[49m\n\u001b[32m    173\u001b[39m \u001b[43m    \u001b[49m\u001b[43mshow_warnings\u001b[49m\u001b[43m=\u001b[49m\u001b[43mshow_warnings\u001b[49m\u001b[43m,\u001b[49m\n\u001b[32m    174\u001b[39m \u001b[43m    \u001b[49m\u001b[43mdefault_fc_parameters\u001b[49m\u001b[43m=\u001b[49m\u001b[43mdefault_fc_parameters\u001b[49m\u001b[43m,\u001b[49m\n\u001b[32m    175\u001b[39m \u001b[43m    \u001b[49m\u001b[43mkind_to_fc_parameters\u001b[49m\u001b[43m=\u001b[49m\u001b[43mkind_to_fc_parameters\u001b[49m\u001b[43m,\u001b[49m\n\u001b[32m    176\u001b[39m \u001b[43m    \u001b[49m\u001b[43mdistributor\u001b[49m\u001b[43m=\u001b[49m\u001b[43mdistributor\u001b[49m\u001b[43m,\u001b[49m\n\u001b[32m    177\u001b[39m \u001b[43m    \u001b[49m\u001b[43mpivot\u001b[49m\u001b[43m=\u001b[49m\u001b[43mpivot\u001b[49m\u001b[43m,\u001b[49m\n\u001b[32m    178\u001b[39m \u001b[43m\u001b[49m\u001b[43m)\u001b[49m\n\u001b[32m    180\u001b[39m \u001b[38;5;66;03m# Impute the result if requested\u001b[39;00m\n\u001b[32m    181\u001b[39m \u001b[38;5;28;01mif\u001b[39;00m impute_function \u001b[38;5;129;01mis\u001b[39;00m \u001b[38;5;129;01mnot\u001b[39;00m \u001b[38;5;28;01mNone\u001b[39;00m:\n",
            "\u001b[36mFile \u001b[39m\u001b[32mz:\\ML\\Proyecto1\\tryouts\\venv\\Lib\\site-packages\\tsfresh\\feature_extraction\\extraction.py:294\u001b[39m, in \u001b[36m_do_extraction\u001b[39m\u001b[34m(df, column_id, column_value, column_kind, column_sort, default_fc_parameters, kind_to_fc_parameters, n_jobs, chunk_size, disable_progressbar, show_warnings, distributor, pivot)\u001b[39m\n\u001b[32m    286\u001b[39m     \u001b[38;5;28;01mraise\u001b[39;00m \u001b[38;5;167;01mValueError\u001b[39;00m(\u001b[33m\"\u001b[39m\u001b[33mthe passed distributor is not an DistributorBaseClass object\u001b[39m\u001b[33m\"\u001b[39m)\n\u001b[32m    288\u001b[39m kwargs = \u001b[38;5;28mdict\u001b[39m(\n\u001b[32m    289\u001b[39m     default_fc_parameters=default_fc_parameters,\n\u001b[32m    290\u001b[39m     kind_to_fc_parameters=kind_to_fc_parameters,\n\u001b[32m    291\u001b[39m     show_warnings=show_warnings,\n\u001b[32m    292\u001b[39m )\n\u001b[32m--> \u001b[39m\u001b[32m294\u001b[39m result = \u001b[43mdistributor\u001b[49m\u001b[43m.\u001b[49m\u001b[43mmap_reduce\u001b[49m\u001b[43m(\u001b[49m\n\u001b[32m    295\u001b[39m \u001b[43m    \u001b[49m\u001b[43m_do_extraction_on_chunk\u001b[49m\u001b[43m,\u001b[49m\n\u001b[32m    296\u001b[39m \u001b[43m    \u001b[49m\u001b[43mdata\u001b[49m\u001b[43m=\u001b[49m\u001b[43mdata\u001b[49m\u001b[43m,\u001b[49m\n\u001b[32m    297\u001b[39m \u001b[43m    \u001b[49m\u001b[43mchunk_size\u001b[49m\u001b[43m=\u001b[49m\u001b[43mchunk_size\u001b[49m\u001b[43m,\u001b[49m\n\u001b[32m    298\u001b[39m \u001b[43m    \u001b[49m\u001b[43mfunction_kwargs\u001b[49m\u001b[43m=\u001b[49m\u001b[43mkwargs\u001b[49m\u001b[43m,\u001b[49m\n\u001b[32m    299\u001b[39m \u001b[43m\u001b[49m\u001b[43m)\u001b[49m\n\u001b[32m    301\u001b[39m \u001b[38;5;28;01mif\u001b[39;00m \u001b[38;5;129;01mnot\u001b[39;00m pivot:\n\u001b[32m    302\u001b[39m     \u001b[38;5;28;01mreturn\u001b[39;00m result\n",
            "\u001b[36mFile \u001b[39m\u001b[32mz:\\ML\\Proyecto1\\tryouts\\venv\\Lib\\site-packages\\tsfresh\\utilities\\distribution.py:241\u001b[39m, in \u001b[36mIterableDistributorBaseClass.map_reduce\u001b[39m\u001b[34m(self, map_function, data, function_kwargs, chunk_size, data_length)\u001b[39m\n\u001b[32m    234\u001b[39m \u001b[38;5;28;01melse\u001b[39;00m:\n\u001b[32m    235\u001b[39m     result = (\n\u001b[32m    236\u001b[39m         \u001b[38;5;28mself\u001b[39m.distribute(\n\u001b[32m    237\u001b[39m             _function_with_partly_reduce, chunk_generator, map_kwargs\n\u001b[32m    238\u001b[39m         ),\n\u001b[32m    239\u001b[39m     )\n\u001b[32m--> \u001b[39m\u001b[32m241\u001b[39m result = \u001b[38;5;28;43mlist\u001b[39;49m\u001b[43m(\u001b[49m\u001b[43mitertools\u001b[49m\u001b[43m.\u001b[49m\u001b[43mchain\u001b[49m\u001b[43m.\u001b[49m\u001b[43mfrom_iterable\u001b[49m\u001b[43m(\u001b[49m\u001b[43mresult\u001b[49m\u001b[43m)\u001b[49m\u001b[43m)\u001b[49m\n\u001b[32m    243\u001b[39m \u001b[38;5;28mself\u001b[39m.close()\n\u001b[32m    245\u001b[39m \u001b[38;5;28;01mreturn\u001b[39;00m result\n",
            "\u001b[36mFile \u001b[39m\u001b[32mz:\\ML\\Proyecto1\\tryouts\\venv\\Lib\\site-packages\\tqdm\\std.py:1169\u001b[39m, in \u001b[36mtqdm.__iter__\u001b[39m\u001b[34m(self)\u001b[39m\n\u001b[32m   1166\u001b[39m \u001b[38;5;66;03m# If the bar is disabled, then just walk the iterable\u001b[39;00m\n\u001b[32m   1167\u001b[39m \u001b[38;5;66;03m# (note: keep this check outside the loop for performance)\u001b[39;00m\n\u001b[32m   1168\u001b[39m \u001b[38;5;28;01mif\u001b[39;00m \u001b[38;5;28mself\u001b[39m.disable:\n\u001b[32m-> \u001b[39m\u001b[32m1169\u001b[39m \u001b[43m    \u001b[49m\u001b[38;5;28;43;01mfor\u001b[39;49;00m\u001b[43m \u001b[49m\u001b[43mobj\u001b[49m\u001b[43m \u001b[49m\u001b[38;5;129;43;01min\u001b[39;49;00m\u001b[43m \u001b[49m\u001b[43miterable\u001b[49m\u001b[43m:\u001b[49m\n\u001b[32m   1170\u001b[39m \u001b[43m        \u001b[49m\u001b[38;5;28;43;01myield\u001b[39;49;00m\u001b[43m \u001b[49m\u001b[43mobj\u001b[49m\n\u001b[32m   1171\u001b[39m     \u001b[38;5;28;01mreturn\u001b[39;00m\n",
            "\u001b[36mFile \u001b[39m\u001b[32mC:\\Python313\\Lib\\multiprocessing\\pool.py:873\u001b[39m, in \u001b[36mIMapIterator.next\u001b[39m\u001b[34m(self, timeout)\u001b[39m\n\u001b[32m    871\u001b[39m \u001b[38;5;28;01mif\u001b[39;00m success:\n\u001b[32m    872\u001b[39m     \u001b[38;5;28;01mreturn\u001b[39;00m value\n\u001b[32m--> \u001b[39m\u001b[32m873\u001b[39m \u001b[38;5;28;01mraise\u001b[39;00m value\n",
            "\u001b[31mMemoryError\u001b[39m: Unable to allocate 5.12 GiB for an array with shape (18529, 18529, 2) and data type float64"
          ]
        }
      ],
      "source": [
        "features = extract_features(df_long, column_id=\"id\", column_sort=\"time\", disable_progressbar=True)"
      ]
    },
    {
      "cell_type": "code",
      "execution_count": null,
      "id": "ba5440fb",
      "metadata": {
        "id": "ba5440fb"
      },
      "outputs": [],
      "source": [
        "features."
      ]
    },
    {
      "cell_type": "code",
      "execution_count": null,
      "id": "cbdb5133",
      "metadata": {
        "id": "cbdb5133",
        "outputId": "a5917254-5133-4991-c871-7fdb44022ef2"
      },
      "outputs": [
        {
          "name": "stdout",
          "output_type": "stream",
          "text": [
            "Número de muestras por clase: (array([0, 1]), array([149,  55]))\n"
          ]
        },
        {
          "name": "stderr",
          "output_type": "stream",
          "text": [
            "Feature Extraction:   0%|          | 0/19 [01:02<?, ?it/s]\n"
          ]
        },
        {
          "ename": "MemoryError",
          "evalue": "Unable to allocate 5.12 GiB for an array with shape (18529, 18529, 2) and data type float64",
          "output_type": "error",
          "traceback": [
            "\u001b[31m---------------------------------------------------------------------------\u001b[39m",
            "\u001b[31mRemoteTraceback\u001b[39m                           Traceback (most recent call last)",
            "\u001b[31mRemoteTraceback\u001b[39m: \n\"\"\"\nTraceback (most recent call last):\n  File \"C:\\Python313\\Lib\\multiprocessing\\pool.py\", line 125, in worker\n    result = (True, func(*args, **kwds))\n                    ~~~~^^^^^^^^^^^^^^^\n  File \"z:\\ML\\Proyecto 1\\tryouts\\venv\\Lib\\site-packages\\tsfresh\\utilities\\distribution.py\", line 43, in _function_with_partly_reduce\n    results = list(itertools.chain.from_iterable(results))\n  File \"z:\\ML\\Proyecto 1\\tryouts\\venv\\Lib\\site-packages\\tsfresh\\utilities\\distribution.py\", line 42, in <genexpr>\n    results = (map_function(chunk, **kwargs) for chunk in chunk_list)\n               ~~~~~~~~~~~~^^^^^^^^^^^^^^^^^\n  File \"z:\\ML\\Proyecto 1\\tryouts\\venv\\Lib\\site-packages\\tsfresh\\feature_extraction\\extraction.py\", line 386, in _do_extraction_on_chunk\n    return list(_f())\n  File \"z:\\ML\\Proyecto 1\\tryouts\\venv\\Lib\\site-packages\\tsfresh\\feature_extraction\\extraction.py\", line 374, in _f\n    for key, item in result:\n                     ^^^^^^\n  File \"z:\\ML\\Proyecto 1\\tryouts\\venv\\Lib\\site-packages\\tsfresh\\feature_extraction\\extraction.py\", line 368, in <genexpr>\n    (convert_to_output_format(param), func(x, **param))\n                                      ~~~~^^^^^^^^^^^^\n  File \"z:\\ML\\Proyecto 1\\tryouts\\venv\\Lib\\site-packages\\tsfresh\\feature_extraction\\feature_calculators.py\", line 1805, in approximate_entropy\n    return np.abs(_phi(m) - _phi(m + 1))\n                  ~~~~^^^\n  File \"z:\\ML\\Proyecto 1\\tryouts\\venv\\Lib\\site-packages\\tsfresh\\feature_extraction\\feature_calculators.py\", line 1800, in _phi\n    np.max(np.abs(x_re[:, np.newaxis] - x_re[np.newaxis, :]), axis=2) <= r,\n           ~~~~~~^^^^^^^^^^^^^^^^^^^^^^^^^^^^^^^^^^^^^^^^^^^\nnumpy._core._exceptions._ArrayMemoryError: Unable to allocate 5.12 GiB for an array with shape (18529, 18529, 2) and data type float64\n\"\"\"",
            "\nThe above exception was the direct cause of the following exception:\n",
            "\u001b[31mMemoryError\u001b[39m                               Traceback (most recent call last)",
            "\u001b[36mCell\u001b[39m\u001b[36m \u001b[39m\u001b[32mIn[9]\u001b[39m\u001b[32m, line 18\u001b[39m\n\u001b[32m     16\u001b[39m \u001b[38;5;66;03m# Paso 4: Extraer características (ejecutar en una máquina potente o submuestrear)\u001b[39;00m\n\u001b[32m     17\u001b[39m \u001b[38;5;28;01mfrom\u001b[39;00m\u001b[38;5;250m \u001b[39m\u001b[34;01mtsfresh\u001b[39;00m\u001b[38;5;250m \u001b[39m\u001b[38;5;28;01mimport\u001b[39;00m extract_features\n\u001b[32m---> \u001b[39m\u001b[32m18\u001b[39m features = \u001b[43mextract_features\u001b[49m\u001b[43m(\u001b[49m\u001b[43mdf_tsfresh\u001b[49m\u001b[43m,\u001b[49m\u001b[43m \u001b[49m\u001b[43mcolumn_id\u001b[49m\u001b[43m=\u001b[49m\u001b[33;43m'\u001b[39;49m\u001b[33;43mid\u001b[39;49m\u001b[33;43m'\u001b[39;49m\u001b[43m,\u001b[49m\u001b[43m \u001b[49m\u001b[43mcolumn_sort\u001b[49m\u001b[43m=\u001b[49m\u001b[33;43m'\u001b[39;49m\u001b[33;43mtime\u001b[39;49m\u001b[33;43m'\u001b[39;49m\u001b[43m)\u001b[49m\n",
            "\u001b[36mFile \u001b[39m\u001b[32mz:\\ML\\Proyecto 1\\tryouts\\venv\\Lib\\site-packages\\tsfresh\\feature_extraction\\extraction.py:164\u001b[39m, in \u001b[36mextract_features\u001b[39m\u001b[34m(timeseries_container, default_fc_parameters, kind_to_fc_parameters, column_id, column_sort, column_kind, column_value, chunksize, n_jobs, show_warnings, disable_progressbar, impute_function, profile, profiling_filename, profiling_sorting, distributor, pivot)\u001b[39m\n\u001b[32m    161\u001b[39m \u001b[38;5;28;01melse\u001b[39;00m:\n\u001b[32m    162\u001b[39m     warnings.simplefilter(\u001b[33m\"\u001b[39m\u001b[33mdefault\u001b[39m\u001b[33m\"\u001b[39m)\n\u001b[32m--> \u001b[39m\u001b[32m164\u001b[39m result = \u001b[43m_do_extraction\u001b[49m\u001b[43m(\u001b[49m\n\u001b[32m    165\u001b[39m \u001b[43m    \u001b[49m\u001b[43mdf\u001b[49m\u001b[43m=\u001b[49m\u001b[43mtimeseries_container\u001b[49m\u001b[43m,\u001b[49m\n\u001b[32m    166\u001b[39m \u001b[43m    \u001b[49m\u001b[43mcolumn_id\u001b[49m\u001b[43m=\u001b[49m\u001b[43mcolumn_id\u001b[49m\u001b[43m,\u001b[49m\n\u001b[32m    167\u001b[39m \u001b[43m    \u001b[49m\u001b[43mcolumn_value\u001b[49m\u001b[43m=\u001b[49m\u001b[43mcolumn_value\u001b[49m\u001b[43m,\u001b[49m\n\u001b[32m    168\u001b[39m \u001b[43m    \u001b[49m\u001b[43mcolumn_kind\u001b[49m\u001b[43m=\u001b[49m\u001b[43mcolumn_kind\u001b[49m\u001b[43m,\u001b[49m\n\u001b[32m    169\u001b[39m \u001b[43m    \u001b[49m\u001b[43mcolumn_sort\u001b[49m\u001b[43m=\u001b[49m\u001b[43mcolumn_sort\u001b[49m\u001b[43m,\u001b[49m\n\u001b[32m    170\u001b[39m \u001b[43m    \u001b[49m\u001b[43mn_jobs\u001b[49m\u001b[43m=\u001b[49m\u001b[43mn_jobs\u001b[49m\u001b[43m,\u001b[49m\n\u001b[32m    171\u001b[39m \u001b[43m    \u001b[49m\u001b[43mchunk_size\u001b[49m\u001b[43m=\u001b[49m\u001b[43mchunksize\u001b[49m\u001b[43m,\u001b[49m\n\u001b[32m    172\u001b[39m \u001b[43m    \u001b[49m\u001b[43mdisable_progressbar\u001b[49m\u001b[43m=\u001b[49m\u001b[43mdisable_progressbar\u001b[49m\u001b[43m,\u001b[49m\n\u001b[32m    173\u001b[39m \u001b[43m    \u001b[49m\u001b[43mshow_warnings\u001b[49m\u001b[43m=\u001b[49m\u001b[43mshow_warnings\u001b[49m\u001b[43m,\u001b[49m\n\u001b[32m    174\u001b[39m \u001b[43m    \u001b[49m\u001b[43mdefault_fc_parameters\u001b[49m\u001b[43m=\u001b[49m\u001b[43mdefault_fc_parameters\u001b[49m\u001b[43m,\u001b[49m\n\u001b[32m    175\u001b[39m \u001b[43m    \u001b[49m\u001b[43mkind_to_fc_parameters\u001b[49m\u001b[43m=\u001b[49m\u001b[43mkind_to_fc_parameters\u001b[49m\u001b[43m,\u001b[49m\n\u001b[32m    176\u001b[39m \u001b[43m    \u001b[49m\u001b[43mdistributor\u001b[49m\u001b[43m=\u001b[49m\u001b[43mdistributor\u001b[49m\u001b[43m,\u001b[49m\n\u001b[32m    177\u001b[39m \u001b[43m    \u001b[49m\u001b[43mpivot\u001b[49m\u001b[43m=\u001b[49m\u001b[43mpivot\u001b[49m\u001b[43m,\u001b[49m\n\u001b[32m    178\u001b[39m \u001b[43m\u001b[49m\u001b[43m)\u001b[49m\n\u001b[32m    180\u001b[39m \u001b[38;5;66;03m# Impute the result if requested\u001b[39;00m\n\u001b[32m    181\u001b[39m \u001b[38;5;28;01mif\u001b[39;00m impute_function \u001b[38;5;129;01mis\u001b[39;00m \u001b[38;5;129;01mnot\u001b[39;00m \u001b[38;5;28;01mNone\u001b[39;00m:\n",
            "\u001b[36mFile \u001b[39m\u001b[32mz:\\ML\\Proyecto 1\\tryouts\\venv\\Lib\\site-packages\\tsfresh\\feature_extraction\\extraction.py:294\u001b[39m, in \u001b[36m_do_extraction\u001b[39m\u001b[34m(df, column_id, column_value, column_kind, column_sort, default_fc_parameters, kind_to_fc_parameters, n_jobs, chunk_size, disable_progressbar, show_warnings, distributor, pivot)\u001b[39m\n\u001b[32m    286\u001b[39m     \u001b[38;5;28;01mraise\u001b[39;00m \u001b[38;5;167;01mValueError\u001b[39;00m(\u001b[33m\"\u001b[39m\u001b[33mthe passed distributor is not an DistributorBaseClass object\u001b[39m\u001b[33m\"\u001b[39m)\n\u001b[32m    288\u001b[39m kwargs = \u001b[38;5;28mdict\u001b[39m(\n\u001b[32m    289\u001b[39m     default_fc_parameters=default_fc_parameters,\n\u001b[32m    290\u001b[39m     kind_to_fc_parameters=kind_to_fc_parameters,\n\u001b[32m    291\u001b[39m     show_warnings=show_warnings,\n\u001b[32m    292\u001b[39m )\n\u001b[32m--> \u001b[39m\u001b[32m294\u001b[39m result = \u001b[43mdistributor\u001b[49m\u001b[43m.\u001b[49m\u001b[43mmap_reduce\u001b[49m\u001b[43m(\u001b[49m\n\u001b[32m    295\u001b[39m \u001b[43m    \u001b[49m\u001b[43m_do_extraction_on_chunk\u001b[49m\u001b[43m,\u001b[49m\n\u001b[32m    296\u001b[39m \u001b[43m    \u001b[49m\u001b[43mdata\u001b[49m\u001b[43m=\u001b[49m\u001b[43mdata\u001b[49m\u001b[43m,\u001b[49m\n\u001b[32m    297\u001b[39m \u001b[43m    \u001b[49m\u001b[43mchunk_size\u001b[49m\u001b[43m=\u001b[49m\u001b[43mchunk_size\u001b[49m\u001b[43m,\u001b[49m\n\u001b[32m    298\u001b[39m \u001b[43m    \u001b[49m\u001b[43mfunction_kwargs\u001b[49m\u001b[43m=\u001b[49m\u001b[43mkwargs\u001b[49m\u001b[43m,\u001b[49m\n\u001b[32m    299\u001b[39m \u001b[43m\u001b[49m\u001b[43m)\u001b[49m\n\u001b[32m    301\u001b[39m \u001b[38;5;28;01mif\u001b[39;00m \u001b[38;5;129;01mnot\u001b[39;00m pivot:\n\u001b[32m    302\u001b[39m     \u001b[38;5;28;01mreturn\u001b[39;00m result\n",
            "\u001b[36mFile \u001b[39m\u001b[32mz:\\ML\\Proyecto 1\\tryouts\\venv\\Lib\\site-packages\\tsfresh\\utilities\\distribution.py:241\u001b[39m, in \u001b[36mIterableDistributorBaseClass.map_reduce\u001b[39m\u001b[34m(self, map_function, data, function_kwargs, chunk_size, data_length)\u001b[39m\n\u001b[32m    234\u001b[39m \u001b[38;5;28;01melse\u001b[39;00m:\n\u001b[32m    235\u001b[39m     result = (\n\u001b[32m    236\u001b[39m         \u001b[38;5;28mself\u001b[39m.distribute(\n\u001b[32m    237\u001b[39m             _function_with_partly_reduce, chunk_generator, map_kwargs\n\u001b[32m    238\u001b[39m         ),\n\u001b[32m    239\u001b[39m     )\n\u001b[32m--> \u001b[39m\u001b[32m241\u001b[39m result = \u001b[38;5;28;43mlist\u001b[39;49m\u001b[43m(\u001b[49m\u001b[43mitertools\u001b[49m\u001b[43m.\u001b[49m\u001b[43mchain\u001b[49m\u001b[43m.\u001b[49m\u001b[43mfrom_iterable\u001b[49m\u001b[43m(\u001b[49m\u001b[43mresult\u001b[49m\u001b[43m)\u001b[49m\u001b[43m)\u001b[49m\n\u001b[32m    243\u001b[39m \u001b[38;5;28mself\u001b[39m.close()\n\u001b[32m    245\u001b[39m \u001b[38;5;28;01mreturn\u001b[39;00m result\n",
            "\u001b[36mFile \u001b[39m\u001b[32mz:\\ML\\Proyecto 1\\tryouts\\venv\\Lib\\site-packages\\tqdm\\std.py:1181\u001b[39m, in \u001b[36mtqdm.__iter__\u001b[39m\u001b[34m(self)\u001b[39m\n\u001b[32m   1178\u001b[39m time = \u001b[38;5;28mself\u001b[39m._time\n\u001b[32m   1180\u001b[39m \u001b[38;5;28;01mtry\u001b[39;00m:\n\u001b[32m-> \u001b[39m\u001b[32m1181\u001b[39m \u001b[43m    \u001b[49m\u001b[38;5;28;43;01mfor\u001b[39;49;00m\u001b[43m \u001b[49m\u001b[43mobj\u001b[49m\u001b[43m \u001b[49m\u001b[38;5;129;43;01min\u001b[39;49;00m\u001b[43m \u001b[49m\u001b[43miterable\u001b[49m\u001b[43m:\u001b[49m\n\u001b[32m   1182\u001b[39m \u001b[43m        \u001b[49m\u001b[38;5;28;43;01myield\u001b[39;49;00m\u001b[43m \u001b[49m\u001b[43mobj\u001b[49m\n\u001b[32m   1183\u001b[39m \u001b[43m        \u001b[49m\u001b[38;5;66;43;03m# Update and possibly print the progressbar.\u001b[39;49;00m\n\u001b[32m   1184\u001b[39m \u001b[43m        \u001b[49m\u001b[38;5;66;43;03m# Note: does not call self.update(1) for speed optimisation.\u001b[39;49;00m\n",
            "\u001b[36mFile \u001b[39m\u001b[32mC:\\Python313\\Lib\\multiprocessing\\pool.py:873\u001b[39m, in \u001b[36mIMapIterator.next\u001b[39m\u001b[34m(self, timeout)\u001b[39m\n\u001b[32m    871\u001b[39m \u001b[38;5;28;01mif\u001b[39;00m success:\n\u001b[32m    872\u001b[39m     \u001b[38;5;28;01mreturn\u001b[39;00m value\n\u001b[32m--> \u001b[39m\u001b[32m873\u001b[39m \u001b[38;5;28;01mraise\u001b[39;00m value\n",
            "\u001b[31mMemoryError\u001b[39m: Unable to allocate 5.12 GiB for an array with shape (18529, 18529, 2) and data type float64"
          ]
        }
      ],
      "source": [
        "# Paso 1: Cargar datos (listo)\n",
        "\n",
        "\n",
        "# Paso 2: EDA\n",
        "import numpy as np\n",
        "print(\"Número de muestras por clase:\", np.unique(labels, return_counts=True))\n",
        "\n",
        "# Paso 3: Preparar DataFrame para TsFresh\n",
        "import pandas as pd\n",
        "df_list = []\n",
        "for i in range(data.shape[0]):\n",
        "    for t in range(data.shape[2]):\n",
        "        df_list.append({'id': i, 'time': t, 'value': data[i,0,t]})\n",
        "df_tsfresh = pd.DataFrame(df_list)\n",
        "\n",
        "# Paso 4: Extraer características (ejecutar en una máquina potente o submuestrear)\n",
        "from tsfresh import extract_features\n",
        "features = extract_features(df_tsfresh, column_id='id', column_sort='time')"
      ]
    }
  ],
  "metadata": {
    "kernelspec": {
      "display_name": "venv",
      "language": "python",
      "name": "python3"
    },
    "language_info": {
      "codemirror_mode": {
        "name": "ipython",
        "version": 3
      },
      "file_extension": ".py",
      "mimetype": "text/x-python",
      "name": "python",
      "nbconvert_exporter": "python",
      "pygments_lexer": "ipython3",
      "version": "3.13.3"
    },
    "colab": {
      "provenance": []
    }
  },
  "nbformat": 4,
  "nbformat_minor": 5
}