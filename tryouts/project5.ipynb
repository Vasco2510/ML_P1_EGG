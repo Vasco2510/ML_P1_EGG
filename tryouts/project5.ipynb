{
 "cells": [
  {
   "cell_type": "code",
   "execution_count": 28,
   "id": "60324af2",
   "metadata": {},
   "outputs": [],
   "source": [
    "import pandas as pd"
   ]
  },
  {
   "cell_type": "code",
   "execution_count": 2,
   "id": "5292b9f3",
   "metadata": {},
   "outputs": [
    {
     "name": "stdout",
     "output_type": "stream",
     "text": [
      "['x', 'y']\n"
     ]
    }
   ],
   "source": [
    "import h5py\n",
    "with h5py.File('data/train.h5', 'r') as f:\n",
    "    print(list(f.keys()))  # Verifica los nombres de los datasets\n"
   ]
  },
  {
   "cell_type": "code",
   "execution_count": 4,
   "id": "9ab63498",
   "metadata": {},
   "outputs": [
    {
     "name": "stdout",
     "output_type": "stream",
     "text": [
      "Forma de los datos (x): (204, 1, 18530)\n",
      "Forma de las etiquetas (y): (204,)\n"
     ]
    }
   ],
   "source": [
    "import h5py\n",
    "\n",
    "with h5py.File('data/train.h5', 'r') as f:\n",
    "    data = f['x'][:]  # Series de tiempo (ya no se llama 'data', sino 'x')\n",
    "    labels = f['y'][:]  # Etiquetas (ya no se llama 'label', sino 'y')\n",
    "\n",
    "# Verifica las formas:\n",
    "print(\"Forma de los datos (x):\", data.shape)  # Debería ser [n_muestras, 64_electrodos, 256_puntos]\n",
    "print(\"Forma de las etiquetas (y):\", labels.shape)  # Debería ser [n_muestras,]"
   ]
  },
  {
   "cell_type": "code",
   "execution_count": 32,
   "id": "08033da9",
   "metadata": {},
   "outputs": [
    {
     "data": {
      "text/plain": [
       "(204, 1, 18530)"
      ]
     },
     "execution_count": 32,
     "metadata": {},
     "output_type": "execute_result"
    }
   ],
   "source": [
    "data.shape"
   ]
  },
  {
   "cell_type": "code",
   "execution_count": 47,
   "id": "9edbbf2e",
   "metadata": {},
   "outputs": [],
   "source": [
    "# Aplanar la señal (quita la dimensión \"1\")\n",
    "X_flat = data.reshape(data.shape[0], data.shape[2])\n",
    "\n",
    "# Crear DataFrame\n",
    "df = pd.DataFrame(X_flat)\n",
    "#df[\"label\"] = labels  # añadimos la etiqueta al final"
   ]
  },
  {
   "cell_type": "code",
   "execution_count": 48,
   "id": "eee0ede1",
   "metadata": {},
   "outputs": [
    {
     "data": {
      "text/html": [
       "<div>\n",
       "<style scoped>\n",
       "    .dataframe tbody tr th:only-of-type {\n",
       "        vertical-align: middle;\n",
       "    }\n",
       "\n",
       "    .dataframe tbody tr th {\n",
       "        vertical-align: top;\n",
       "    }\n",
       "\n",
       "    .dataframe thead th {\n",
       "        text-align: right;\n",
       "    }\n",
       "</style>\n",
       "<table border=\"1\" class=\"dataframe\">\n",
       "  <thead>\n",
       "    <tr style=\"text-align: right;\">\n",
       "      <th></th>\n",
       "      <th>0</th>\n",
       "      <th>1</th>\n",
       "      <th>2</th>\n",
       "      <th>3</th>\n",
       "      <th>4</th>\n",
       "      <th>5</th>\n",
       "      <th>6</th>\n",
       "      <th>7</th>\n",
       "      <th>8</th>\n",
       "      <th>9</th>\n",
       "      <th>...</th>\n",
       "      <th>18520</th>\n",
       "      <th>18521</th>\n",
       "      <th>18522</th>\n",
       "      <th>18523</th>\n",
       "      <th>18524</th>\n",
       "      <th>18525</th>\n",
       "      <th>18526</th>\n",
       "      <th>18527</th>\n",
       "      <th>18528</th>\n",
       "      <th>18529</th>\n",
       "    </tr>\n",
       "  </thead>\n",
       "  <tbody>\n",
       "    <tr>\n",
       "      <th>0</th>\n",
       "      <td>-0.005859</td>\n",
       "      <td>-0.011414</td>\n",
       "      <td>-0.010773</td>\n",
       "      <td>-0.010559</td>\n",
       "      <td>-0.008850</td>\n",
       "      <td>-0.008636</td>\n",
       "      <td>-0.009094</td>\n",
       "      <td>-0.008850</td>\n",
       "      <td>-0.009369</td>\n",
       "      <td>-0.009888</td>\n",
       "      <td>...</td>\n",
       "      <td>0.012573</td>\n",
       "      <td>0.007721</td>\n",
       "      <td>0.002075</td>\n",
       "      <td>-0.003174</td>\n",
       "      <td>-0.007843</td>\n",
       "      <td>-0.012573</td>\n",
       "      <td>-0.017670</td>\n",
       "      <td>-0.019897</td>\n",
       "      <td>-0.021637</td>\n",
       "      <td>-0.018860</td>\n",
       "    </tr>\n",
       "    <tr>\n",
       "      <th>1</th>\n",
       "      <td>0.002380</td>\n",
       "      <td>0.005127</td>\n",
       "      <td>0.005737</td>\n",
       "      <td>0.007263</td>\n",
       "      <td>0.008575</td>\n",
       "      <td>0.010742</td>\n",
       "      <td>0.012970</td>\n",
       "      <td>0.017212</td>\n",
       "      <td>0.022003</td>\n",
       "      <td>0.027954</td>\n",
       "      <td>...</td>\n",
       "      <td>0.003815</td>\n",
       "      <td>0.005707</td>\n",
       "      <td>0.006683</td>\n",
       "      <td>0.006012</td>\n",
       "      <td>0.003601</td>\n",
       "      <td>0.000427</td>\n",
       "      <td>-0.001984</td>\n",
       "      <td>-0.003998</td>\n",
       "      <td>-0.005981</td>\n",
       "      <td>-0.007660</td>\n",
       "    </tr>\n",
       "    <tr>\n",
       "      <th>2</th>\n",
       "      <td>0.058075</td>\n",
       "      <td>0.122040</td>\n",
       "      <td>0.108307</td>\n",
       "      <td>0.113769</td>\n",
       "      <td>0.105316</td>\n",
       "      <td>0.103912</td>\n",
       "      <td>0.094849</td>\n",
       "      <td>0.091187</td>\n",
       "      <td>0.080170</td>\n",
       "      <td>0.074432</td>\n",
       "      <td>...</td>\n",
       "      <td>-0.009613</td>\n",
       "      <td>-0.008301</td>\n",
       "      <td>-0.005402</td>\n",
       "      <td>-0.007690</td>\n",
       "      <td>-0.006592</td>\n",
       "      <td>-0.007904</td>\n",
       "      <td>-0.009674</td>\n",
       "      <td>-0.013153</td>\n",
       "      <td>-0.014130</td>\n",
       "      <td>-0.018250</td>\n",
       "    </tr>\n",
       "    <tr>\n",
       "      <th>3</th>\n",
       "      <td>-0.007385</td>\n",
       "      <td>-0.011932</td>\n",
       "      <td>-0.004700</td>\n",
       "      <td>-0.003143</td>\n",
       "      <td>0.005493</td>\n",
       "      <td>0.006744</td>\n",
       "      <td>0.012085</td>\n",
       "      <td>0.012909</td>\n",
       "      <td>0.018097</td>\n",
       "      <td>0.021606</td>\n",
       "      <td>...</td>\n",
       "      <td>-0.003082</td>\n",
       "      <td>-0.007050</td>\n",
       "      <td>-0.010956</td>\n",
       "      <td>-0.013916</td>\n",
       "      <td>-0.017944</td>\n",
       "      <td>-0.019867</td>\n",
       "      <td>-0.025604</td>\n",
       "      <td>-0.027161</td>\n",
       "      <td>-0.030273</td>\n",
       "      <td>-0.039368</td>\n",
       "    </tr>\n",
       "    <tr>\n",
       "      <th>4</th>\n",
       "      <td>-0.000458</td>\n",
       "      <td>-0.001099</td>\n",
       "      <td>0.003723</td>\n",
       "      <td>0.002930</td>\n",
       "      <td>0.004059</td>\n",
       "      <td>0.003906</td>\n",
       "      <td>0.003265</td>\n",
       "      <td>0.002777</td>\n",
       "      <td>0.000488</td>\n",
       "      <td>-0.001221</td>\n",
       "      <td>...</td>\n",
       "      <td>0.040039</td>\n",
       "      <td>0.040680</td>\n",
       "      <td>0.041901</td>\n",
       "      <td>0.040710</td>\n",
       "      <td>0.038727</td>\n",
       "      <td>0.025818</td>\n",
       "      <td>0.019470</td>\n",
       "      <td>0.010010</td>\n",
       "      <td>0.004242</td>\n",
       "      <td>0.003235</td>\n",
       "    </tr>\n",
       "  </tbody>\n",
       "</table>\n",
       "<p>5 rows × 18530 columns</p>\n",
       "</div>"
      ],
      "text/plain": [
       "      0         1         2         3         4         5         6      \\\n",
       "0 -0.005859 -0.011414 -0.010773 -0.010559 -0.008850 -0.008636 -0.009094   \n",
       "1  0.002380  0.005127  0.005737  0.007263  0.008575  0.010742  0.012970   \n",
       "2  0.058075  0.122040  0.108307  0.113769  0.105316  0.103912  0.094849   \n",
       "3 -0.007385 -0.011932 -0.004700 -0.003143  0.005493  0.006744  0.012085   \n",
       "4 -0.000458 -0.001099  0.003723  0.002930  0.004059  0.003906  0.003265   \n",
       "\n",
       "      7         8         9      ...     18520     18521     18522     18523  \\\n",
       "0 -0.008850 -0.009369 -0.009888  ...  0.012573  0.007721  0.002075 -0.003174   \n",
       "1  0.017212  0.022003  0.027954  ...  0.003815  0.005707  0.006683  0.006012   \n",
       "2  0.091187  0.080170  0.074432  ... -0.009613 -0.008301 -0.005402 -0.007690   \n",
       "3  0.012909  0.018097  0.021606  ... -0.003082 -0.007050 -0.010956 -0.013916   \n",
       "4  0.002777  0.000488 -0.001221  ...  0.040039  0.040680  0.041901  0.040710   \n",
       "\n",
       "      18524     18525     18526     18527     18528     18529  \n",
       "0 -0.007843 -0.012573 -0.017670 -0.019897 -0.021637 -0.018860  \n",
       "1  0.003601  0.000427 -0.001984 -0.003998 -0.005981 -0.007660  \n",
       "2 -0.006592 -0.007904 -0.009674 -0.013153 -0.014130 -0.018250  \n",
       "3 -0.017944 -0.019867 -0.025604 -0.027161 -0.030273 -0.039368  \n",
       "4  0.038727  0.025818  0.019470  0.010010  0.004242  0.003235  \n",
       "\n",
       "[5 rows x 18530 columns]"
      ]
     },
     "execution_count": 48,
     "metadata": {},
     "output_type": "execute_result"
    }
   ],
   "source": [
    "df.head()"
   ]
  },
  {
   "cell_type": "code",
   "execution_count": 49,
   "id": "fb84842c",
   "metadata": {},
   "outputs": [
    {
     "name": "stdout",
     "output_type": "stream",
     "text": [
      "0\n"
     ]
    }
   ],
   "source": [
    "# Cantidad de nulos en el dataframe\n",
    "print(df.isnull().sum().sum())"
   ]
  },
  {
   "cell_type": "code",
   "execution_count": 50,
   "id": "f93585a4",
   "metadata": {},
   "outputs": [],
   "source": [
    "import numpy as np\n",
    "from tsfresh import extract_features\n",
    "\n",
    "# melt convierte tu DataFrame de ancho a largo\n",
    "df_long = pd.melt(df.reset_index(), id_vars=['index'], var_name=\"time\", value_name=\"value\")\n",
    "\n",
    "# renombramos columnas para TsFresh\n",
    "df_long = df_long.rename(columns={'index':'id'})\n",
    "\n",
    "# id = cuál muestra pertenece cada valor\n",
    "df_long[\"id\"] = df_long[\"id\"].astype(int)\n",
    "df_long[\"time\"] = df_long[\"time\"].astype(int)"
   ]
  },
  {
   "cell_type": "code",
   "execution_count": 52,
   "id": "de0e3f66",
   "metadata": {},
   "outputs": [
    {
     "ename": "MemoryError",
     "evalue": "Unable to allocate 5.12 GiB for an array with shape (18529, 18529, 2) and data type float64",
     "output_type": "error",
     "traceback": [
      "\u001b[31m---------------------------------------------------------------------------\u001b[39m",
      "\u001b[31mRemoteTraceback\u001b[39m                           Traceback (most recent call last)",
      "\u001b[31mRemoteTraceback\u001b[39m: \n\"\"\"\nTraceback (most recent call last):\n  File \"C:\\Python313\\Lib\\multiprocessing\\pool.py\", line 125, in worker\n    result = (True, func(*args, **kwds))\n                    ~~~~^^^^^^^^^^^^^^^\n  File \"z:\\ML\\Proyecto1\\tryouts\\venv\\Lib\\site-packages\\tsfresh\\utilities\\distribution.py\", line 43, in _function_with_partly_reduce\n    results = list(itertools.chain.from_iterable(results))\n  File \"z:\\ML\\Proyecto1\\tryouts\\venv\\Lib\\site-packages\\tsfresh\\utilities\\distribution.py\", line 42, in <genexpr>\n    results = (map_function(chunk, **kwargs) for chunk in chunk_list)\n               ~~~~~~~~~~~~^^^^^^^^^^^^^^^^^\n  File \"z:\\ML\\Proyecto1\\tryouts\\venv\\Lib\\site-packages\\tsfresh\\feature_extraction\\extraction.py\", line 386, in _do_extraction_on_chunk\n    return list(_f())\n  File \"z:\\ML\\Proyecto1\\tryouts\\venv\\Lib\\site-packages\\tsfresh\\feature_extraction\\extraction.py\", line 374, in _f\n    for key, item in result:\n                     ^^^^^^\n  File \"z:\\ML\\Proyecto1\\tryouts\\venv\\Lib\\site-packages\\tsfresh\\feature_extraction\\extraction.py\", line 368, in <genexpr>\n    (convert_to_output_format(param), func(x, **param))\n                                      ~~~~^^^^^^^^^^^^\n  File \"z:\\ML\\Proyecto1\\tryouts\\venv\\Lib\\site-packages\\tsfresh\\feature_extraction\\feature_calculators.py\", line 1805, in approximate_entropy\n    return np.abs(_phi(m) - _phi(m + 1))\n                  ~~~~^^^\n  File \"z:\\ML\\Proyecto1\\tryouts\\venv\\Lib\\site-packages\\tsfresh\\feature_extraction\\feature_calculators.py\", line 1800, in _phi\n    np.max(np.abs(x_re[:, np.newaxis] - x_re[np.newaxis, :]), axis=2) <= r,\n                  ~~~~~~~~~~~~~~~~~~~~^~~~~~~~~~~~~~~~~~~~~\nnumpy._core._exceptions._ArrayMemoryError: Unable to allocate 5.12 GiB for an array with shape (18529, 18529, 2) and data type float64\n\"\"\"",
      "\nThe above exception was the direct cause of the following exception:\n",
      "\u001b[31mMemoryError\u001b[39m                               Traceback (most recent call last)",
      "\u001b[36mCell\u001b[39m\u001b[36m \u001b[39m\u001b[32mIn[52]\u001b[39m\u001b[32m, line 1\u001b[39m\n\u001b[32m----> \u001b[39m\u001b[32m1\u001b[39m features = \u001b[43mextract_features\u001b[49m\u001b[43m(\u001b[49m\u001b[43mdf_long\u001b[49m\u001b[43m,\u001b[49m\u001b[43m \u001b[49m\u001b[43mcolumn_id\u001b[49m\u001b[43m=\u001b[49m\u001b[33;43m\"\u001b[39;49m\u001b[33;43mid\u001b[39;49m\u001b[33;43m\"\u001b[39;49m\u001b[43m,\u001b[49m\u001b[43m \u001b[49m\u001b[43mcolumn_sort\u001b[49m\u001b[43m=\u001b[49m\u001b[33;43m\"\u001b[39;49m\u001b[33;43mtime\u001b[39;49m\u001b[33;43m\"\u001b[39;49m\u001b[43m,\u001b[49m\u001b[43m \u001b[49m\u001b[43mdisable_progressbar\u001b[49m\u001b[43m=\u001b[49m\u001b[38;5;28;43;01mTrue\u001b[39;49;00m\u001b[43m)\u001b[49m\n",
      "\u001b[36mFile \u001b[39m\u001b[32mz:\\ML\\Proyecto1\\tryouts\\venv\\Lib\\site-packages\\tsfresh\\feature_extraction\\extraction.py:164\u001b[39m, in \u001b[36mextract_features\u001b[39m\u001b[34m(timeseries_container, default_fc_parameters, kind_to_fc_parameters, column_id, column_sort, column_kind, column_value, chunksize, n_jobs, show_warnings, disable_progressbar, impute_function, profile, profiling_filename, profiling_sorting, distributor, pivot)\u001b[39m\n\u001b[32m    161\u001b[39m \u001b[38;5;28;01melse\u001b[39;00m:\n\u001b[32m    162\u001b[39m     warnings.simplefilter(\u001b[33m\"\u001b[39m\u001b[33mdefault\u001b[39m\u001b[33m\"\u001b[39m)\n\u001b[32m--> \u001b[39m\u001b[32m164\u001b[39m result = \u001b[43m_do_extraction\u001b[49m\u001b[43m(\u001b[49m\n\u001b[32m    165\u001b[39m \u001b[43m    \u001b[49m\u001b[43mdf\u001b[49m\u001b[43m=\u001b[49m\u001b[43mtimeseries_container\u001b[49m\u001b[43m,\u001b[49m\n\u001b[32m    166\u001b[39m \u001b[43m    \u001b[49m\u001b[43mcolumn_id\u001b[49m\u001b[43m=\u001b[49m\u001b[43mcolumn_id\u001b[49m\u001b[43m,\u001b[49m\n\u001b[32m    167\u001b[39m \u001b[43m    \u001b[49m\u001b[43mcolumn_value\u001b[49m\u001b[43m=\u001b[49m\u001b[43mcolumn_value\u001b[49m\u001b[43m,\u001b[49m\n\u001b[32m    168\u001b[39m \u001b[43m    \u001b[49m\u001b[43mcolumn_kind\u001b[49m\u001b[43m=\u001b[49m\u001b[43mcolumn_kind\u001b[49m\u001b[43m,\u001b[49m\n\u001b[32m    169\u001b[39m \u001b[43m    \u001b[49m\u001b[43mcolumn_sort\u001b[49m\u001b[43m=\u001b[49m\u001b[43mcolumn_sort\u001b[49m\u001b[43m,\u001b[49m\n\u001b[32m    170\u001b[39m \u001b[43m    \u001b[49m\u001b[43mn_jobs\u001b[49m\u001b[43m=\u001b[49m\u001b[43mn_jobs\u001b[49m\u001b[43m,\u001b[49m\n\u001b[32m    171\u001b[39m \u001b[43m    \u001b[49m\u001b[43mchunk_size\u001b[49m\u001b[43m=\u001b[49m\u001b[43mchunksize\u001b[49m\u001b[43m,\u001b[49m\n\u001b[32m    172\u001b[39m \u001b[43m    \u001b[49m\u001b[43mdisable_progressbar\u001b[49m\u001b[43m=\u001b[49m\u001b[43mdisable_progressbar\u001b[49m\u001b[43m,\u001b[49m\n\u001b[32m    173\u001b[39m \u001b[43m    \u001b[49m\u001b[43mshow_warnings\u001b[49m\u001b[43m=\u001b[49m\u001b[43mshow_warnings\u001b[49m\u001b[43m,\u001b[49m\n\u001b[32m    174\u001b[39m \u001b[43m    \u001b[49m\u001b[43mdefault_fc_parameters\u001b[49m\u001b[43m=\u001b[49m\u001b[43mdefault_fc_parameters\u001b[49m\u001b[43m,\u001b[49m\n\u001b[32m    175\u001b[39m \u001b[43m    \u001b[49m\u001b[43mkind_to_fc_parameters\u001b[49m\u001b[43m=\u001b[49m\u001b[43mkind_to_fc_parameters\u001b[49m\u001b[43m,\u001b[49m\n\u001b[32m    176\u001b[39m \u001b[43m    \u001b[49m\u001b[43mdistributor\u001b[49m\u001b[43m=\u001b[49m\u001b[43mdistributor\u001b[49m\u001b[43m,\u001b[49m\n\u001b[32m    177\u001b[39m \u001b[43m    \u001b[49m\u001b[43mpivot\u001b[49m\u001b[43m=\u001b[49m\u001b[43mpivot\u001b[49m\u001b[43m,\u001b[49m\n\u001b[32m    178\u001b[39m \u001b[43m\u001b[49m\u001b[43m)\u001b[49m\n\u001b[32m    180\u001b[39m \u001b[38;5;66;03m# Impute the result if requested\u001b[39;00m\n\u001b[32m    181\u001b[39m \u001b[38;5;28;01mif\u001b[39;00m impute_function \u001b[38;5;129;01mis\u001b[39;00m \u001b[38;5;129;01mnot\u001b[39;00m \u001b[38;5;28;01mNone\u001b[39;00m:\n",
      "\u001b[36mFile \u001b[39m\u001b[32mz:\\ML\\Proyecto1\\tryouts\\venv\\Lib\\site-packages\\tsfresh\\feature_extraction\\extraction.py:294\u001b[39m, in \u001b[36m_do_extraction\u001b[39m\u001b[34m(df, column_id, column_value, column_kind, column_sort, default_fc_parameters, kind_to_fc_parameters, n_jobs, chunk_size, disable_progressbar, show_warnings, distributor, pivot)\u001b[39m\n\u001b[32m    286\u001b[39m     \u001b[38;5;28;01mraise\u001b[39;00m \u001b[38;5;167;01mValueError\u001b[39;00m(\u001b[33m\"\u001b[39m\u001b[33mthe passed distributor is not an DistributorBaseClass object\u001b[39m\u001b[33m\"\u001b[39m)\n\u001b[32m    288\u001b[39m kwargs = \u001b[38;5;28mdict\u001b[39m(\n\u001b[32m    289\u001b[39m     default_fc_parameters=default_fc_parameters,\n\u001b[32m    290\u001b[39m     kind_to_fc_parameters=kind_to_fc_parameters,\n\u001b[32m    291\u001b[39m     show_warnings=show_warnings,\n\u001b[32m    292\u001b[39m )\n\u001b[32m--> \u001b[39m\u001b[32m294\u001b[39m result = \u001b[43mdistributor\u001b[49m\u001b[43m.\u001b[49m\u001b[43mmap_reduce\u001b[49m\u001b[43m(\u001b[49m\n\u001b[32m    295\u001b[39m \u001b[43m    \u001b[49m\u001b[43m_do_extraction_on_chunk\u001b[49m\u001b[43m,\u001b[49m\n\u001b[32m    296\u001b[39m \u001b[43m    \u001b[49m\u001b[43mdata\u001b[49m\u001b[43m=\u001b[49m\u001b[43mdata\u001b[49m\u001b[43m,\u001b[49m\n\u001b[32m    297\u001b[39m \u001b[43m    \u001b[49m\u001b[43mchunk_size\u001b[49m\u001b[43m=\u001b[49m\u001b[43mchunk_size\u001b[49m\u001b[43m,\u001b[49m\n\u001b[32m    298\u001b[39m \u001b[43m    \u001b[49m\u001b[43mfunction_kwargs\u001b[49m\u001b[43m=\u001b[49m\u001b[43mkwargs\u001b[49m\u001b[43m,\u001b[49m\n\u001b[32m    299\u001b[39m \u001b[43m\u001b[49m\u001b[43m)\u001b[49m\n\u001b[32m    301\u001b[39m \u001b[38;5;28;01mif\u001b[39;00m \u001b[38;5;129;01mnot\u001b[39;00m pivot:\n\u001b[32m    302\u001b[39m     \u001b[38;5;28;01mreturn\u001b[39;00m result\n",
      "\u001b[36mFile \u001b[39m\u001b[32mz:\\ML\\Proyecto1\\tryouts\\venv\\Lib\\site-packages\\tsfresh\\utilities\\distribution.py:241\u001b[39m, in \u001b[36mIterableDistributorBaseClass.map_reduce\u001b[39m\u001b[34m(self, map_function, data, function_kwargs, chunk_size, data_length)\u001b[39m\n\u001b[32m    234\u001b[39m \u001b[38;5;28;01melse\u001b[39;00m:\n\u001b[32m    235\u001b[39m     result = (\n\u001b[32m    236\u001b[39m         \u001b[38;5;28mself\u001b[39m.distribute(\n\u001b[32m    237\u001b[39m             _function_with_partly_reduce, chunk_generator, map_kwargs\n\u001b[32m    238\u001b[39m         ),\n\u001b[32m    239\u001b[39m     )\n\u001b[32m--> \u001b[39m\u001b[32m241\u001b[39m result = \u001b[38;5;28;43mlist\u001b[39;49m\u001b[43m(\u001b[49m\u001b[43mitertools\u001b[49m\u001b[43m.\u001b[49m\u001b[43mchain\u001b[49m\u001b[43m.\u001b[49m\u001b[43mfrom_iterable\u001b[49m\u001b[43m(\u001b[49m\u001b[43mresult\u001b[49m\u001b[43m)\u001b[49m\u001b[43m)\u001b[49m\n\u001b[32m    243\u001b[39m \u001b[38;5;28mself\u001b[39m.close()\n\u001b[32m    245\u001b[39m \u001b[38;5;28;01mreturn\u001b[39;00m result\n",
      "\u001b[36mFile \u001b[39m\u001b[32mz:\\ML\\Proyecto1\\tryouts\\venv\\Lib\\site-packages\\tqdm\\std.py:1169\u001b[39m, in \u001b[36mtqdm.__iter__\u001b[39m\u001b[34m(self)\u001b[39m\n\u001b[32m   1166\u001b[39m \u001b[38;5;66;03m# If the bar is disabled, then just walk the iterable\u001b[39;00m\n\u001b[32m   1167\u001b[39m \u001b[38;5;66;03m# (note: keep this check outside the loop for performance)\u001b[39;00m\n\u001b[32m   1168\u001b[39m \u001b[38;5;28;01mif\u001b[39;00m \u001b[38;5;28mself\u001b[39m.disable:\n\u001b[32m-> \u001b[39m\u001b[32m1169\u001b[39m \u001b[43m    \u001b[49m\u001b[38;5;28;43;01mfor\u001b[39;49;00m\u001b[43m \u001b[49m\u001b[43mobj\u001b[49m\u001b[43m \u001b[49m\u001b[38;5;129;43;01min\u001b[39;49;00m\u001b[43m \u001b[49m\u001b[43miterable\u001b[49m\u001b[43m:\u001b[49m\n\u001b[32m   1170\u001b[39m \u001b[43m        \u001b[49m\u001b[38;5;28;43;01myield\u001b[39;49;00m\u001b[43m \u001b[49m\u001b[43mobj\u001b[49m\n\u001b[32m   1171\u001b[39m     \u001b[38;5;28;01mreturn\u001b[39;00m\n",
      "\u001b[36mFile \u001b[39m\u001b[32mC:\\Python313\\Lib\\multiprocessing\\pool.py:873\u001b[39m, in \u001b[36mIMapIterator.next\u001b[39m\u001b[34m(self, timeout)\u001b[39m\n\u001b[32m    871\u001b[39m \u001b[38;5;28;01mif\u001b[39;00m success:\n\u001b[32m    872\u001b[39m     \u001b[38;5;28;01mreturn\u001b[39;00m value\n\u001b[32m--> \u001b[39m\u001b[32m873\u001b[39m \u001b[38;5;28;01mraise\u001b[39;00m value\n",
      "\u001b[31mMemoryError\u001b[39m: Unable to allocate 5.12 GiB for an array with shape (18529, 18529, 2) and data type float64"
     ]
    }
   ],
   "source": [
    "features = extract_features(df_long, column_id=\"id\", column_sort=\"time\", disable_progressbar=True)"
   ]
  },
  {
   "cell_type": "code",
   "execution_count": null,
   "id": "ba5440fb",
   "metadata": {},
   "outputs": [],
   "source": [
    "features."
   ]
  },
  {
   "cell_type": "code",
   "execution_count": 9,
   "id": "cbdb5133",
   "metadata": {},
   "outputs": [
    {
     "name": "stdout",
     "output_type": "stream",
     "text": [
      "Número de muestras por clase: (array([0, 1]), array([149,  55]))\n"
     ]
    },
    {
     "name": "stderr",
     "output_type": "stream",
     "text": [
      "Feature Extraction:   0%|          | 0/19 [01:02<?, ?it/s]\n"
     ]
    },
    {
     "ename": "MemoryError",
     "evalue": "Unable to allocate 5.12 GiB for an array with shape (18529, 18529, 2) and data type float64",
     "output_type": "error",
     "traceback": [
      "\u001b[31m---------------------------------------------------------------------------\u001b[39m",
      "\u001b[31mRemoteTraceback\u001b[39m                           Traceback (most recent call last)",
      "\u001b[31mRemoteTraceback\u001b[39m: \n\"\"\"\nTraceback (most recent call last):\n  File \"C:\\Python313\\Lib\\multiprocessing\\pool.py\", line 125, in worker\n    result = (True, func(*args, **kwds))\n                    ~~~~^^^^^^^^^^^^^^^\n  File \"z:\\ML\\Proyecto 1\\tryouts\\venv\\Lib\\site-packages\\tsfresh\\utilities\\distribution.py\", line 43, in _function_with_partly_reduce\n    results = list(itertools.chain.from_iterable(results))\n  File \"z:\\ML\\Proyecto 1\\tryouts\\venv\\Lib\\site-packages\\tsfresh\\utilities\\distribution.py\", line 42, in <genexpr>\n    results = (map_function(chunk, **kwargs) for chunk in chunk_list)\n               ~~~~~~~~~~~~^^^^^^^^^^^^^^^^^\n  File \"z:\\ML\\Proyecto 1\\tryouts\\venv\\Lib\\site-packages\\tsfresh\\feature_extraction\\extraction.py\", line 386, in _do_extraction_on_chunk\n    return list(_f())\n  File \"z:\\ML\\Proyecto 1\\tryouts\\venv\\Lib\\site-packages\\tsfresh\\feature_extraction\\extraction.py\", line 374, in _f\n    for key, item in result:\n                     ^^^^^^\n  File \"z:\\ML\\Proyecto 1\\tryouts\\venv\\Lib\\site-packages\\tsfresh\\feature_extraction\\extraction.py\", line 368, in <genexpr>\n    (convert_to_output_format(param), func(x, **param))\n                                      ~~~~^^^^^^^^^^^^\n  File \"z:\\ML\\Proyecto 1\\tryouts\\venv\\Lib\\site-packages\\tsfresh\\feature_extraction\\feature_calculators.py\", line 1805, in approximate_entropy\n    return np.abs(_phi(m) - _phi(m + 1))\n                  ~~~~^^^\n  File \"z:\\ML\\Proyecto 1\\tryouts\\venv\\Lib\\site-packages\\tsfresh\\feature_extraction\\feature_calculators.py\", line 1800, in _phi\n    np.max(np.abs(x_re[:, np.newaxis] - x_re[np.newaxis, :]), axis=2) <= r,\n           ~~~~~~^^^^^^^^^^^^^^^^^^^^^^^^^^^^^^^^^^^^^^^^^^^\nnumpy._core._exceptions._ArrayMemoryError: Unable to allocate 5.12 GiB for an array with shape (18529, 18529, 2) and data type float64\n\"\"\"",
      "\nThe above exception was the direct cause of the following exception:\n",
      "\u001b[31mMemoryError\u001b[39m                               Traceback (most recent call last)",
      "\u001b[36mCell\u001b[39m\u001b[36m \u001b[39m\u001b[32mIn[9]\u001b[39m\u001b[32m, line 18\u001b[39m\n\u001b[32m     16\u001b[39m \u001b[38;5;66;03m# Paso 4: Extraer características (ejecutar en una máquina potente o submuestrear)\u001b[39;00m\n\u001b[32m     17\u001b[39m \u001b[38;5;28;01mfrom\u001b[39;00m\u001b[38;5;250m \u001b[39m\u001b[34;01mtsfresh\u001b[39;00m\u001b[38;5;250m \u001b[39m\u001b[38;5;28;01mimport\u001b[39;00m extract_features\n\u001b[32m---> \u001b[39m\u001b[32m18\u001b[39m features = \u001b[43mextract_features\u001b[49m\u001b[43m(\u001b[49m\u001b[43mdf_tsfresh\u001b[49m\u001b[43m,\u001b[49m\u001b[43m \u001b[49m\u001b[43mcolumn_id\u001b[49m\u001b[43m=\u001b[49m\u001b[33;43m'\u001b[39;49m\u001b[33;43mid\u001b[39;49m\u001b[33;43m'\u001b[39;49m\u001b[43m,\u001b[49m\u001b[43m \u001b[49m\u001b[43mcolumn_sort\u001b[49m\u001b[43m=\u001b[49m\u001b[33;43m'\u001b[39;49m\u001b[33;43mtime\u001b[39;49m\u001b[33;43m'\u001b[39;49m\u001b[43m)\u001b[49m\n",
      "\u001b[36mFile \u001b[39m\u001b[32mz:\\ML\\Proyecto 1\\tryouts\\venv\\Lib\\site-packages\\tsfresh\\feature_extraction\\extraction.py:164\u001b[39m, in \u001b[36mextract_features\u001b[39m\u001b[34m(timeseries_container, default_fc_parameters, kind_to_fc_parameters, column_id, column_sort, column_kind, column_value, chunksize, n_jobs, show_warnings, disable_progressbar, impute_function, profile, profiling_filename, profiling_sorting, distributor, pivot)\u001b[39m\n\u001b[32m    161\u001b[39m \u001b[38;5;28;01melse\u001b[39;00m:\n\u001b[32m    162\u001b[39m     warnings.simplefilter(\u001b[33m\"\u001b[39m\u001b[33mdefault\u001b[39m\u001b[33m\"\u001b[39m)\n\u001b[32m--> \u001b[39m\u001b[32m164\u001b[39m result = \u001b[43m_do_extraction\u001b[49m\u001b[43m(\u001b[49m\n\u001b[32m    165\u001b[39m \u001b[43m    \u001b[49m\u001b[43mdf\u001b[49m\u001b[43m=\u001b[49m\u001b[43mtimeseries_container\u001b[49m\u001b[43m,\u001b[49m\n\u001b[32m    166\u001b[39m \u001b[43m    \u001b[49m\u001b[43mcolumn_id\u001b[49m\u001b[43m=\u001b[49m\u001b[43mcolumn_id\u001b[49m\u001b[43m,\u001b[49m\n\u001b[32m    167\u001b[39m \u001b[43m    \u001b[49m\u001b[43mcolumn_value\u001b[49m\u001b[43m=\u001b[49m\u001b[43mcolumn_value\u001b[49m\u001b[43m,\u001b[49m\n\u001b[32m    168\u001b[39m \u001b[43m    \u001b[49m\u001b[43mcolumn_kind\u001b[49m\u001b[43m=\u001b[49m\u001b[43mcolumn_kind\u001b[49m\u001b[43m,\u001b[49m\n\u001b[32m    169\u001b[39m \u001b[43m    \u001b[49m\u001b[43mcolumn_sort\u001b[49m\u001b[43m=\u001b[49m\u001b[43mcolumn_sort\u001b[49m\u001b[43m,\u001b[49m\n\u001b[32m    170\u001b[39m \u001b[43m    \u001b[49m\u001b[43mn_jobs\u001b[49m\u001b[43m=\u001b[49m\u001b[43mn_jobs\u001b[49m\u001b[43m,\u001b[49m\n\u001b[32m    171\u001b[39m \u001b[43m    \u001b[49m\u001b[43mchunk_size\u001b[49m\u001b[43m=\u001b[49m\u001b[43mchunksize\u001b[49m\u001b[43m,\u001b[49m\n\u001b[32m    172\u001b[39m \u001b[43m    \u001b[49m\u001b[43mdisable_progressbar\u001b[49m\u001b[43m=\u001b[49m\u001b[43mdisable_progressbar\u001b[49m\u001b[43m,\u001b[49m\n\u001b[32m    173\u001b[39m \u001b[43m    \u001b[49m\u001b[43mshow_warnings\u001b[49m\u001b[43m=\u001b[49m\u001b[43mshow_warnings\u001b[49m\u001b[43m,\u001b[49m\n\u001b[32m    174\u001b[39m \u001b[43m    \u001b[49m\u001b[43mdefault_fc_parameters\u001b[49m\u001b[43m=\u001b[49m\u001b[43mdefault_fc_parameters\u001b[49m\u001b[43m,\u001b[49m\n\u001b[32m    175\u001b[39m \u001b[43m    \u001b[49m\u001b[43mkind_to_fc_parameters\u001b[49m\u001b[43m=\u001b[49m\u001b[43mkind_to_fc_parameters\u001b[49m\u001b[43m,\u001b[49m\n\u001b[32m    176\u001b[39m \u001b[43m    \u001b[49m\u001b[43mdistributor\u001b[49m\u001b[43m=\u001b[49m\u001b[43mdistributor\u001b[49m\u001b[43m,\u001b[49m\n\u001b[32m    177\u001b[39m \u001b[43m    \u001b[49m\u001b[43mpivot\u001b[49m\u001b[43m=\u001b[49m\u001b[43mpivot\u001b[49m\u001b[43m,\u001b[49m\n\u001b[32m    178\u001b[39m \u001b[43m\u001b[49m\u001b[43m)\u001b[49m\n\u001b[32m    180\u001b[39m \u001b[38;5;66;03m# Impute the result if requested\u001b[39;00m\n\u001b[32m    181\u001b[39m \u001b[38;5;28;01mif\u001b[39;00m impute_function \u001b[38;5;129;01mis\u001b[39;00m \u001b[38;5;129;01mnot\u001b[39;00m \u001b[38;5;28;01mNone\u001b[39;00m:\n",
      "\u001b[36mFile \u001b[39m\u001b[32mz:\\ML\\Proyecto 1\\tryouts\\venv\\Lib\\site-packages\\tsfresh\\feature_extraction\\extraction.py:294\u001b[39m, in \u001b[36m_do_extraction\u001b[39m\u001b[34m(df, column_id, column_value, column_kind, column_sort, default_fc_parameters, kind_to_fc_parameters, n_jobs, chunk_size, disable_progressbar, show_warnings, distributor, pivot)\u001b[39m\n\u001b[32m    286\u001b[39m     \u001b[38;5;28;01mraise\u001b[39;00m \u001b[38;5;167;01mValueError\u001b[39;00m(\u001b[33m\"\u001b[39m\u001b[33mthe passed distributor is not an DistributorBaseClass object\u001b[39m\u001b[33m\"\u001b[39m)\n\u001b[32m    288\u001b[39m kwargs = \u001b[38;5;28mdict\u001b[39m(\n\u001b[32m    289\u001b[39m     default_fc_parameters=default_fc_parameters,\n\u001b[32m    290\u001b[39m     kind_to_fc_parameters=kind_to_fc_parameters,\n\u001b[32m    291\u001b[39m     show_warnings=show_warnings,\n\u001b[32m    292\u001b[39m )\n\u001b[32m--> \u001b[39m\u001b[32m294\u001b[39m result = \u001b[43mdistributor\u001b[49m\u001b[43m.\u001b[49m\u001b[43mmap_reduce\u001b[49m\u001b[43m(\u001b[49m\n\u001b[32m    295\u001b[39m \u001b[43m    \u001b[49m\u001b[43m_do_extraction_on_chunk\u001b[49m\u001b[43m,\u001b[49m\n\u001b[32m    296\u001b[39m \u001b[43m    \u001b[49m\u001b[43mdata\u001b[49m\u001b[43m=\u001b[49m\u001b[43mdata\u001b[49m\u001b[43m,\u001b[49m\n\u001b[32m    297\u001b[39m \u001b[43m    \u001b[49m\u001b[43mchunk_size\u001b[49m\u001b[43m=\u001b[49m\u001b[43mchunk_size\u001b[49m\u001b[43m,\u001b[49m\n\u001b[32m    298\u001b[39m \u001b[43m    \u001b[49m\u001b[43mfunction_kwargs\u001b[49m\u001b[43m=\u001b[49m\u001b[43mkwargs\u001b[49m\u001b[43m,\u001b[49m\n\u001b[32m    299\u001b[39m \u001b[43m\u001b[49m\u001b[43m)\u001b[49m\n\u001b[32m    301\u001b[39m \u001b[38;5;28;01mif\u001b[39;00m \u001b[38;5;129;01mnot\u001b[39;00m pivot:\n\u001b[32m    302\u001b[39m     \u001b[38;5;28;01mreturn\u001b[39;00m result\n",
      "\u001b[36mFile \u001b[39m\u001b[32mz:\\ML\\Proyecto 1\\tryouts\\venv\\Lib\\site-packages\\tsfresh\\utilities\\distribution.py:241\u001b[39m, in \u001b[36mIterableDistributorBaseClass.map_reduce\u001b[39m\u001b[34m(self, map_function, data, function_kwargs, chunk_size, data_length)\u001b[39m\n\u001b[32m    234\u001b[39m \u001b[38;5;28;01melse\u001b[39;00m:\n\u001b[32m    235\u001b[39m     result = (\n\u001b[32m    236\u001b[39m         \u001b[38;5;28mself\u001b[39m.distribute(\n\u001b[32m    237\u001b[39m             _function_with_partly_reduce, chunk_generator, map_kwargs\n\u001b[32m    238\u001b[39m         ),\n\u001b[32m    239\u001b[39m     )\n\u001b[32m--> \u001b[39m\u001b[32m241\u001b[39m result = \u001b[38;5;28;43mlist\u001b[39;49m\u001b[43m(\u001b[49m\u001b[43mitertools\u001b[49m\u001b[43m.\u001b[49m\u001b[43mchain\u001b[49m\u001b[43m.\u001b[49m\u001b[43mfrom_iterable\u001b[49m\u001b[43m(\u001b[49m\u001b[43mresult\u001b[49m\u001b[43m)\u001b[49m\u001b[43m)\u001b[49m\n\u001b[32m    243\u001b[39m \u001b[38;5;28mself\u001b[39m.close()\n\u001b[32m    245\u001b[39m \u001b[38;5;28;01mreturn\u001b[39;00m result\n",
      "\u001b[36mFile \u001b[39m\u001b[32mz:\\ML\\Proyecto 1\\tryouts\\venv\\Lib\\site-packages\\tqdm\\std.py:1181\u001b[39m, in \u001b[36mtqdm.__iter__\u001b[39m\u001b[34m(self)\u001b[39m\n\u001b[32m   1178\u001b[39m time = \u001b[38;5;28mself\u001b[39m._time\n\u001b[32m   1180\u001b[39m \u001b[38;5;28;01mtry\u001b[39;00m:\n\u001b[32m-> \u001b[39m\u001b[32m1181\u001b[39m \u001b[43m    \u001b[49m\u001b[38;5;28;43;01mfor\u001b[39;49;00m\u001b[43m \u001b[49m\u001b[43mobj\u001b[49m\u001b[43m \u001b[49m\u001b[38;5;129;43;01min\u001b[39;49;00m\u001b[43m \u001b[49m\u001b[43miterable\u001b[49m\u001b[43m:\u001b[49m\n\u001b[32m   1182\u001b[39m \u001b[43m        \u001b[49m\u001b[38;5;28;43;01myield\u001b[39;49;00m\u001b[43m \u001b[49m\u001b[43mobj\u001b[49m\n\u001b[32m   1183\u001b[39m \u001b[43m        \u001b[49m\u001b[38;5;66;43;03m# Update and possibly print the progressbar.\u001b[39;49;00m\n\u001b[32m   1184\u001b[39m \u001b[43m        \u001b[49m\u001b[38;5;66;43;03m# Note: does not call self.update(1) for speed optimisation.\u001b[39;49;00m\n",
      "\u001b[36mFile \u001b[39m\u001b[32mC:\\Python313\\Lib\\multiprocessing\\pool.py:873\u001b[39m, in \u001b[36mIMapIterator.next\u001b[39m\u001b[34m(self, timeout)\u001b[39m\n\u001b[32m    871\u001b[39m \u001b[38;5;28;01mif\u001b[39;00m success:\n\u001b[32m    872\u001b[39m     \u001b[38;5;28;01mreturn\u001b[39;00m value\n\u001b[32m--> \u001b[39m\u001b[32m873\u001b[39m \u001b[38;5;28;01mraise\u001b[39;00m value\n",
      "\u001b[31mMemoryError\u001b[39m: Unable to allocate 5.12 GiB for an array with shape (18529, 18529, 2) and data type float64"
     ]
    }
   ],
   "source": [
    "# Paso 1: Cargar datos (listo)\n",
    "\n",
    "\n",
    "# Paso 2: EDA\n",
    "import numpy as np\n",
    "print(\"Número de muestras por clase:\", np.unique(labels, return_counts=True))\n",
    "\n",
    "# Paso 3: Preparar DataFrame para TsFresh\n",
    "import pandas as pd\n",
    "df_list = []\n",
    "for i in range(data.shape[0]):\n",
    "    for t in range(data.shape[2]):\n",
    "        df_list.append({'id': i, 'time': t, 'value': data[i,0,t]})\n",
    "df_tsfresh = pd.DataFrame(df_list)\n",
    "\n",
    "# Paso 4: Extraer características (ejecutar en una máquina potente o submuestrear)\n",
    "from tsfresh import extract_features\n",
    "features = extract_features(df_tsfresh, column_id='id', column_sort='time')"
   ]
  }
 ],
 "metadata": {
  "kernelspec": {
   "display_name": "venv",
   "language": "python",
   "name": "python3"
  },
  "language_info": {
   "codemirror_mode": {
    "name": "ipython",
    "version": 3
   },
   "file_extension": ".py",
   "mimetype": "text/x-python",
   "name": "python",
   "nbconvert_exporter": "python",
   "pygments_lexer": "ipython3",
   "version": "3.13.3"
  }
 },
 "nbformat": 4,
 "nbformat_minor": 5
}
